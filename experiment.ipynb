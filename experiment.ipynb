{
 "cells": [
  {
   "attachments": {},
   "cell_type": "markdown",
   "metadata": {},
   "source": [
    "## **Scream Detection Using CNN + LSTM**"
   ]
  },
  {
   "cell_type": "code",
   "execution_count": 1,
   "metadata": {},
   "outputs": [],
   "source": [
    "# import libraries\n",
    "import numpy as np\n",
    "import pandas as pd\n",
    "import random\n",
    "import pickle\n",
    "import os\n",
    "import librosa\n",
    "\n",
    "from tqdm import tqdm\n",
    "from earlystopping import EarlyStopping\n",
    "\n",
    "import torch\n",
    "import torch.nn as nn\n",
    "import torch.nn.functional as F\n",
    "from torch import optim\n",
    "from torch.utils.data import DataLoader, Dataset, random_split\n",
    "\n",
    "import torchvision\n",
    "import torchvision.models as models"
   ]
  },
  {
   "cell_type": "code",
   "execution_count": 2,
   "metadata": {},
   "outputs": [
    {
     "name": "stdout",
     "output_type": "stream",
     "text": [
      "cuda:0\n"
     ]
    },
    {
     "data": {
      "text/plain": [
       "<torch._C.Generator at 0x26aaad7d4b0>"
      ]
     },
     "execution_count": 2,
     "metadata": {},
     "output_type": "execute_result"
    }
   ],
   "source": [
    "if torch.cuda.is_available()==True:\n",
    "    device='cuda:0'\n",
    "else:\n",
    "    device='cpu'\n",
    "\n",
    "print(device)\n",
    "np.random.seed(112)\n",
    "torch.manual_seed(112)"
   ]
  },
  {
   "cell_type": "code",
   "execution_count": 3,
   "metadata": {},
   "outputs": [],
   "source": [
    "import gc\n",
    "\n",
    "def clean():\n",
    "    gc.collect()\n",
    "    torch.cuda.empty_cache()"
   ]
  },
  {
   "cell_type": "code",
   "execution_count": 4,
   "metadata": {},
   "outputs": [],
   "source": [
    "# set epochs and batch_size\n",
    "EPOCHS = 300\n",
    "BATCH_SIZE = 512"
   ]
  },
  {
   "cell_type": "code",
   "execution_count": 5,
   "metadata": {},
   "outputs": [],
   "source": [
    "# set early stop setting\n",
    "early_stopping = EarlyStopping(patience = 30, verbose = True)"
   ]
  },
  {
   "cell_type": "code",
   "execution_count": 6,
   "metadata": {},
   "outputs": [],
   "source": [
    "# extract mfccs and sc, acr, rms for a given wav file.\n",
    "# used in test session \n",
    "def extract_features(file_path):\n",
    "    audio, sample_rate = librosa.load(path=file_path)\n",
    "    mfccs = librosa.feature.mfcc(y=audio, sr=sample_rate, n_mfcc=16)\n",
    "    \n",
    "    sc = librosa.feature.spectral_centroid(y=audio, sr=sample_rate)\n",
    "    zcr = librosa.feature.zero_crossing_rate(y=audio)\n",
    "    rms = librosa.feature.rms(y=audio)\n",
    "    features = np.vstack((sc, zcr, rms))\n",
    "    \n",
    "    return mfccs, features"
   ]
  },
  {
   "cell_type": "code",
   "execution_count": 7,
   "metadata": {},
   "outputs": [],
   "source": [
    "# set directories\n",
    "class Config():\n",
    "    training_df_dir = \"./dataset/DataFinal2/train_w_features.pkl\"\n",
    "    test_df_dir = \"./dataset/DataFinal2/test.csv\"\n",
    "    test_data_dir= \"./dataset/DataFinal2/test/\""
   ]
  },
  {
   "cell_type": "code",
   "execution_count": 8,
   "metadata": {},
   "outputs": [
    {
     "data": {
      "text/html": [
       "<div>\n",
       "<style scoped>\n",
       "    .dataframe tbody tr th:only-of-type {\n",
       "        vertical-align: middle;\n",
       "    }\n",
       "\n",
       "    .dataframe tbody tr th {\n",
       "        vertical-align: top;\n",
       "    }\n",
       "\n",
       "    .dataframe thead th {\n",
       "        text-align: right;\n",
       "    }\n",
       "</style>\n",
       "<table border=\"1\" class=\"dataframe\">\n",
       "  <thead>\n",
       "    <tr style=\"text-align: right;\">\n",
       "      <th></th>\n",
       "      <th>file</th>\n",
       "      <th>label</th>\n",
       "      <th>mfccs</th>\n",
       "      <th>features</th>\n",
       "    </tr>\n",
       "  </thead>\n",
       "  <tbody>\n",
       "    <tr>\n",
       "      <th>0</th>\n",
       "      <td>00001.wav</td>\n",
       "      <td>0</td>\n",
       "      <td>[[-669.36633, -633.17426, -630.46625, -634.311...</td>\n",
       "      <td>[[1749.7470890266736, 1762.38937056839, 1743.8...</td>\n",
       "    </tr>\n",
       "    <tr>\n",
       "      <th>1</th>\n",
       "      <td>00002.wav</td>\n",
       "      <td>0</td>\n",
       "      <td>[[-676.54846, -644.3386, -646.3123, -651.2253,...</td>\n",
       "      <td>[[1636.2124629160744, 1590.7553609415274, 1737...</td>\n",
       "    </tr>\n",
       "    <tr>\n",
       "      <th>2</th>\n",
       "      <td>00003.wav</td>\n",
       "      <td>0</td>\n",
       "      <td>[[-622.53485, -593.8227, -588.59235, -587.1136...</td>\n",
       "      <td>[[2010.2357362790042, 1946.369032503802, 1922....</td>\n",
       "    </tr>\n",
       "    <tr>\n",
       "      <th>3</th>\n",
       "      <td>00004.wav</td>\n",
       "      <td>0</td>\n",
       "      <td>[[-895.66205, -894.86176, -895.16815, -894.194...</td>\n",
       "      <td>[[5250.292810582463, 5243.545691722471, 5236.8...</td>\n",
       "    </tr>\n",
       "    <tr>\n",
       "      <th>4</th>\n",
       "      <td>00005.wav</td>\n",
       "      <td>0</td>\n",
       "      <td>[[-586.84045, -557.59766, -554.48016, -549.502...</td>\n",
       "      <td>[[3440.69730404678, 3652.45197264897, 3594.313...</td>\n",
       "    </tr>\n",
       "  </tbody>\n",
       "</table>\n",
       "</div>"
      ],
      "text/plain": [
       "        file  label                                              mfccs   \n",
       "0  00001.wav      0  [[-669.36633, -633.17426, -630.46625, -634.311...  \\\n",
       "1  00002.wav      0  [[-676.54846, -644.3386, -646.3123, -651.2253,...   \n",
       "2  00003.wav      0  [[-622.53485, -593.8227, -588.59235, -587.1136...   \n",
       "3  00004.wav      0  [[-895.66205, -894.86176, -895.16815, -894.194...   \n",
       "4  00005.wav      0  [[-586.84045, -557.59766, -554.48016, -549.502...   \n",
       "\n",
       "                                            features  \n",
       "0  [[1749.7470890266736, 1762.38937056839, 1743.8...  \n",
       "1  [[1636.2124629160744, 1590.7553609415274, 1737...  \n",
       "2  [[2010.2357362790042, 1946.369032503802, 1922....  \n",
       "3  [[5250.292810582463, 5243.545691722471, 5236.8...  \n",
       "4  [[3440.69730404678, 3652.45197264897, 3594.313...  "
      ]
     },
     "execution_count": 8,
     "metadata": {},
     "output_type": "execute_result"
    }
   ],
   "source": [
    "# data preview ( training data is pre-extracted )\n",
    "df = pd.read_pickle(Config().training_df_dir)\n",
    "df.head()"
   ]
  },
  {
   "attachments": {},
   "cell_type": "markdown",
   "metadata": {},
   "source": [
    "### **Training**"
   ]
  },
  {
   "cell_type": "code",
   "execution_count": 9,
   "metadata": {},
   "outputs": [],
   "source": [
    "class TrainingDataset(Dataset):\n",
    "    def __init__(self, Config):\n",
    "        self.df = pd.read_pickle(Config.training_df_dir)\n",
    "        \n",
    "    def __len__(self):\n",
    "        return len(self.df.file)\n",
    "    \n",
    "    def __getitem__(self, idx):\n",
    "        mfccs = torch.tensor(self.df.mfccs[idx]).to(torch.float32).unsqueeze(0)\n",
    "        features = torch.tensor(self.df.features[idx]).to(torch.float32).unsqueeze(0)\n",
    "        #data = torch.cat([mfccs, features], dim=-2).to(torch.float32)\n",
    "        \n",
    "        label = torch.tensor(self.df.label[idx]).unsqueeze(0)\n",
    "        \n",
    "        return mfccs, features, label"
   ]
  },
  {
   "cell_type": "code",
   "execution_count": 10,
   "metadata": {},
   "outputs": [],
   "source": [
    "# train / valid dataset and dataloader setting\n",
    "train_valid_dataset = TrainingDataset(Config())\n",
    "train_dataset, valid_dataset = random_split(train_valid_dataset, [0.8, 0.2])\n",
    "\n",
    "train_dataloader = DataLoader(train_dataset, batch_size=BATCH_SIZE, shuffle=True)\n",
    "valid_dataloader = DataLoader(valid_dataset, batch_size=BATCH_SIZE, shuffle=True)"
   ]
  },
  {
   "cell_type": "code",
   "execution_count": 11,
   "metadata": {},
   "outputs": [],
   "source": [
    "# main model architecture\n",
    "class CRNN_Model(nn.Module):\n",
    "    def __init__(self):\n",
    "        super(CRNN_Model, self).__init__()\n",
    "        self.conv1 = nn.Conv2d(1, 32, kernel_size=3, stride=1, padding=1)\n",
    "        self.maxpool1 = nn.MaxPool2d(kernel_size=(2, 1), stride=(2, 1))\n",
    "        self.conv2 = nn.Conv2d(32, 64, kernel_size=3, stride=1, padding=1)\n",
    "        self.maxpool2 = nn.MaxPool2d(kernel_size=(2, 1), stride=(2, 1))\n",
    "        self.conv3 = nn.Conv2d(64, 128, kernel_size=3, stride=1, padding=1)\n",
    "        self.maxpool3 = nn.MaxPool2d(kernel_size=(2, 1), stride=(2, 1))\n",
    "        \n",
    "        self.relu = nn.ReLU()\n",
    "        self.dropout = nn.Dropout2d(p=0.2)\n",
    "        \n",
    "        self.lstm = nn.LSTM(input_size=128*5, hidden_size=32, num_layers=2, dropout=0.2)\n",
    "        \n",
    "        self.linear1 = nn.Linear(32*44, 16)\n",
    "        self.linear2 = nn.Linear(16, 1)\n",
    "        self.sig = nn.Sigmoid()\n",
    "        \n",
    "        self.conv4 = nn.Conv2d(1, 32, kernel_size=3, stride=1, padding=1)\n",
    "        self.conv5 = nn.Conv2d(32, 64, kernel_size=3, stride=1, padding=1)\n",
    "        self.conv6 = nn.Conv2d(64, 128, kernel_size=3, stride=1, padding=1)\n",
    "        \n",
    "    def forward(self, mfccs, features):\n",
    "        out1 = self.conv1(mfccs)\n",
    "        out1 = self.relu(out1)\n",
    "        out1 = self.maxpool1(out1)\n",
    "        out1 = self.conv2(out1)\n",
    "        out1 = self.relu(out1)\n",
    "        out1 = self.maxpool2(out1)\n",
    "        out1 = self.conv3(out1)\n",
    "        out1 = self.relu(out1)\n",
    "        out1 = self.maxpool3(out1)\n",
    "        out1 = self.dropout(out1)\n",
    "        \n",
    "        out2 = self.conv4(features)\n",
    "        out2 = self.relu(out2)\n",
    "        out2 = self.conv5(out2)\n",
    "        out2 = self.relu(out2)\n",
    "        out2 = self.conv6(out2)\n",
    "        out2 = self.relu(out2)\n",
    "        \n",
    "        out = torch.cat(tensors=(out1, out2), dim=2)\n",
    "        out = out.view(out.size(0), -1, out.size(-1))\n",
    "        out = out.permute(0, 2, 1)\n",
    "        out, _ = self.lstm(out)\n",
    "        \n",
    "        out = out.view(out.size(0), -1)\n",
    "        out = self.linear1(out)\n",
    "        out = self.linear2(out)\n",
    "        out = self.sig(out)\n",
    "        \n",
    "        return out"
   ]
  },
  {
   "cell_type": "code",
   "execution_count": 12,
   "metadata": {},
   "outputs": [],
   "source": [
    "model = CRNN_Model().to(device)\n",
    "optimizer = optim.Adam(params=model.parameters(), lr=0.001)\n",
    "loss_fn = nn.BCELoss()"
   ]
  },
  {
   "cell_type": "code",
   "execution_count": 15,
   "metadata": {},
   "outputs": [
    {
     "data": {
      "text/plain": [
       "torch.Size([512, 1])"
      ]
     },
     "execution_count": 15,
     "metadata": {},
     "output_type": "execute_result"
    }
   ],
   "source": [
    "# model output shape preview\n",
    "mfccs, features, label = next(iter(train_dataloader))\n",
    "y = model(mfccs.to(device), features.to(device))\n",
    "y.shape"
   ]
  },
  {
   "cell_type": "code",
   "execution_count": 16,
   "metadata": {},
   "outputs": [
    {
     "name": "stderr",
     "output_type": "stream",
     "text": [
      "c:\\Users\\user\\Documents\\23_01_SceamDetection\\ScreamDetectionPytorch\\Scream\\lib\\site-packages\\torchinfo\\torchinfo.py:477: UserWarning: TypedStorage is deprecated. It will be removed in the future and UntypedStorage will be the only storage class. This should only matter to you if you are using storages directly.  To access UntypedStorage directly, use tensor.untyped_storage() instead of tensor.storage()\n",
      "  action_fn=lambda data: sys.getsizeof(data.storage()),\n",
      "c:\\Users\\user\\Documents\\23_01_SceamDetection\\ScreamDetectionPytorch\\Scream\\lib\\site-packages\\torch\\storage.py:665: UserWarning: TypedStorage is deprecated. It will be removed in the future and UntypedStorage will be the only storage class. This should only matter to you if you are using storages directly.  To access UntypedStorage directly, use tensor.untyped_storage() instead of tensor.storage()\n",
      "  return super().__sizeof__() + self.nbytes()\n"
     ]
    },
    {
     "data": {
      "text/plain": [
       "==========================================================================================\n",
       "Layer (type:depth-idx)                   Output Shape              Param #\n",
       "==========================================================================================\n",
       "CRNN_Model                               [512, 1]                  --\n",
       "├─Conv2d: 1-1                            [512, 32, 16, 44]         320\n",
       "├─ReLU: 1-2                              [512, 32, 16, 44]         --\n",
       "├─MaxPool2d: 1-3                         [512, 32, 8, 44]          --\n",
       "├─Conv2d: 1-4                            [512, 64, 8, 44]          18,496\n",
       "├─ReLU: 1-5                              [512, 64, 8, 44]          --\n",
       "├─MaxPool2d: 1-6                         [512, 64, 4, 44]          --\n",
       "├─Conv2d: 1-7                            [512, 128, 4, 44]         73,856\n",
       "├─ReLU: 1-8                              [512, 128, 4, 44]         --\n",
       "├─MaxPool2d: 1-9                         [512, 128, 2, 44]         --\n",
       "├─Dropout2d: 1-10                        [512, 128, 2, 44]         --\n",
       "├─Conv2d: 1-11                           [512, 32, 3, 44]          320\n",
       "├─ReLU: 1-12                             [512, 32, 3, 44]          --\n",
       "├─Conv2d: 1-13                           [512, 64, 3, 44]          18,496\n",
       "├─ReLU: 1-14                             [512, 64, 3, 44]          --\n",
       "├─Conv2d: 1-15                           [512, 128, 3, 44]         73,856\n",
       "├─ReLU: 1-16                             [512, 128, 3, 44]         --\n",
       "├─LSTM: 1-17                             [512, 44, 32]             94,720\n",
       "├─Linear: 1-18                           [512, 16]                 22,544\n",
       "├─Linear: 1-19                           [512, 1]                  17\n",
       "├─Sigmoid: 1-20                          [512, 1]                  --\n",
       "==========================================================================================\n",
       "Total params: 302,625\n",
       "Trainable params: 302,625\n",
       "Non-trainable params: 0\n",
       "Total mult-adds (G): 18.51\n",
       "==========================================================================================\n",
       "Input size (MB): 1.71\n",
       "Forward/backward pass size (MB): 403.77\n",
       "Params size (MB): 1.21\n",
       "Estimated Total Size (MB): 406.69\n",
       "=========================================================================================="
      ]
     },
     "execution_count": 16,
     "metadata": {},
     "output_type": "execute_result"
    }
   ],
   "source": [
    "# model summary\n",
    "from torchinfo import summary\n",
    "summary(model,((512, 1, 16, 44), (512, 1, 3, 44)))"
   ]
  },
  {
   "cell_type": "code",
   "execution_count": 17,
   "metadata": {},
   "outputs": [],
   "source": [
    "def train_epoch(model, dataloader, loss_fn, optimizer):\n",
    "    train_loss = 0.0\n",
    "    model.train()\n",
    "    correct = 0\n",
    "    total = 0\n",
    "    \n",
    "    for i, (mfccs, features, label) in tqdm(enumerate(train_dataloader)):\n",
    "        mfccs = mfccs.to(device)\n",
    "        features = features.to(device)\n",
    "        label = label.to(device)\n",
    "        \n",
    "        outputs = model(mfccs.to(torch.float32), features.to(torch.float32))\n",
    "        loss = loss_fn(outputs.to(torch.float32), label.to(torch.float32))\n",
    "\n",
    "        total += label.size(0)\n",
    "        correct += (outputs.round() == label).sum().item()\n",
    "        \n",
    "        optimizer.zero_grad()\n",
    "        loss.backward()\n",
    "        optimizer.step()\n",
    "\n",
    "        train_loss += loss.item()\n",
    "\n",
    "        del loss, outputs, label\n",
    "        clean()\n",
    "\n",
    "    train_loss /= len(dataloader.dataset)\n",
    "    return train_loss, correct, total"
   ]
  },
  {
   "cell_type": "code",
   "execution_count": 18,
   "metadata": {},
   "outputs": [],
   "source": [
    "def valid_epoch(model, dataloader, loss_fn):\n",
    "    valid_loss = 0.0\n",
    "    model.eval()\n",
    "    correct = 0\n",
    "    total = 0\n",
    "    \n",
    "    with torch.inference_mode():\n",
    "        for i, (mfccs, features, label) in tqdm(enumerate(valid_dataloader)):\n",
    "            mfccs = mfccs.to(device)\n",
    "            features = features.to(device)\n",
    "            label = label.to(device)\n",
    "            \n",
    "            outputs = model(mfccs.to(torch.float32), features.to(torch.float32))\n",
    "            loss = loss_fn(outputs.to(torch.float32), label.to(torch.float32))\n",
    "            \n",
    "            total += label.size(0)\n",
    "            correct += (outputs.round() == label).sum().item()\n",
    "            \n",
    "            valid_loss += loss.item()\n",
    "\n",
    "            del loss, outputs, label\n",
    "            clean()\n",
    "    \n",
    "    valid_loss /= len(dataloader.dataset)\n",
    "    return valid_loss, correct, total"
   ]
  },
  {
   "cell_type": "code",
   "execution_count": 19,
   "metadata": {},
   "outputs": [],
   "source": [
    "# lists for log\n",
    "counter = []\n",
    "train_loss_history = []\n",
    "valid_loss_history = []\n",
    "train_accuracy_history = []\n",
    "valid_accuracy_history = []\n",
    "iteration_number= 0"
   ]
  },
  {
   "cell_type": "code",
   "execution_count": 20,
   "metadata": {},
   "outputs": [
    {
     "name": "stderr",
     "output_type": "stream",
     "text": [
      "13it [00:03,  3.71it/s]\n",
      "4it [00:00,  6.60it/s]\n"
     ]
    },
    {
     "name": "stdout",
     "output_type": "stream",
     "text": [
      "Epoch number [1/300] Train Loss: 0.0015, Train Accuracy: 53.0387%, Valid Loss: 0.0018, Valid Accuracy: 52.7308%\n",
      "Validation loss decreased (inf --> 0.001799).  Saving model ...\n"
     ]
    },
    {
     "name": "stderr",
     "output_type": "stream",
     "text": [
      "13it [00:02,  5.06it/s]\n",
      "4it [00:00,  8.28it/s]\n"
     ]
    },
    {
     "name": "stdout",
     "output_type": "stream",
     "text": [
      "Epoch number [2/300] Train Loss: 0.0015, Train Accuracy: 53.0549%, Valid Loss: 0.0018, Valid Accuracy: 53.1860%\n",
      "EarlyStopping counter: 1 out of 30\n"
     ]
    },
    {
     "name": "stderr",
     "output_type": "stream",
     "text": [
      "13it [00:02,  5.15it/s]\n",
      "4it [00:00,  8.88it/s]\n"
     ]
    },
    {
     "name": "stdout",
     "output_type": "stream",
     "text": [
      "Epoch number [3/300] Train Loss: 0.0015, Train Accuracy: 51.9337%, Valid Loss: 0.0018, Valid Accuracy: 53.1860%\n",
      "EarlyStopping counter: 2 out of 30\n"
     ]
    },
    {
     "name": "stderr",
     "output_type": "stream",
     "text": [
      "13it [00:02,  5.18it/s]\n",
      "4it [00:00,  8.95it/s]\n"
     ]
    },
    {
     "name": "stdout",
     "output_type": "stream",
     "text": [
      "Epoch number [4/300] Train Loss: 0.0015, Train Accuracy: 51.0237%, Valid Loss: 0.0018, Valid Accuracy: 52.8609%\n",
      "EarlyStopping counter: 3 out of 30\n"
     ]
    },
    {
     "name": "stderr",
     "output_type": "stream",
     "text": [
      "13it [00:02,  5.02it/s]\n",
      "4it [00:00,  8.76it/s]\n"
     ]
    },
    {
     "name": "stdout",
     "output_type": "stream",
     "text": [
      "Epoch number [5/300] Train Loss: 0.0015, Train Accuracy: 53.5262%, Valid Loss: 0.0018, Valid Accuracy: 54.2913%\n",
      "EarlyStopping counter: 4 out of 30\n"
     ]
    },
    {
     "name": "stderr",
     "output_type": "stream",
     "text": [
      "13it [00:02,  4.98it/s]\n",
      "4it [00:00,  8.89it/s]\n"
     ]
    },
    {
     "name": "stdout",
     "output_type": "stream",
     "text": [
      "Epoch number [6/300] Train Loss: 0.0015, Train Accuracy: 53.7212%, Valid Loss: 0.0018, Valid Accuracy: 46.0988%\n",
      "EarlyStopping counter: 5 out of 30\n"
     ]
    },
    {
     "name": "stderr",
     "output_type": "stream",
     "text": [
      "13it [00:02,  5.19it/s]\n",
      "4it [00:00,  8.83it/s]\n"
     ]
    },
    {
     "name": "stdout",
     "output_type": "stream",
     "text": [
      "Epoch number [7/300] Train Loss: 0.0015, Train Accuracy: 54.4524%, Valid Loss: 0.0018, Valid Accuracy: 53.2510%\n",
      "EarlyStopping counter: 6 out of 30\n"
     ]
    },
    {
     "name": "stderr",
     "output_type": "stream",
     "text": [
      "13it [00:02,  5.11it/s]\n",
      "4it [00:00,  8.99it/s]\n"
     ]
    },
    {
     "name": "stdout",
     "output_type": "stream",
     "text": [
      "Epoch number [8/300] Train Loss: 0.0015, Train Accuracy: 53.3637%, Valid Loss: 0.0018, Valid Accuracy: 53.5111%\n",
      "Validation loss decreased (0.001799 --> 0.001782).  Saving model ...\n"
     ]
    },
    {
     "name": "stderr",
     "output_type": "stream",
     "text": [
      "13it [00:02,  5.17it/s]\n",
      "4it [00:00,  8.91it/s]\n"
     ]
    },
    {
     "name": "stdout",
     "output_type": "stream",
     "text": [
      "Epoch number [9/300] Train Loss: 0.0015, Train Accuracy: 53.9812%, Valid Loss: 0.0018, Valid Accuracy: 56.4369%\n",
      "Validation loss decreased (0.001782 --> 0.001782).  Saving model ...\n"
     ]
    },
    {
     "name": "stderr",
     "output_type": "stream",
     "text": [
      "13it [00:02,  5.19it/s]\n",
      "4it [00:00,  8.95it/s]\n"
     ]
    },
    {
     "name": "stdout",
     "output_type": "stream",
     "text": [
      "Epoch number [10/300] Train Loss: 0.0015, Train Accuracy: 53.6562%, Valid Loss: 0.0018, Valid Accuracy: 60.0780%\n",
      "EarlyStopping counter: 1 out of 30\n"
     ]
    },
    {
     "name": "stderr",
     "output_type": "stream",
     "text": [
      "13it [00:02,  5.17it/s]\n",
      "4it [00:00,  8.78it/s]\n"
     ]
    },
    {
     "name": "stdout",
     "output_type": "stream",
     "text": [
      "Epoch number [11/300] Train Loss: 0.0015, Train Accuracy: 53.5262%, Valid Loss: 0.0019, Valid Accuracy: 51.3004%\n",
      "EarlyStopping counter: 2 out of 30\n"
     ]
    },
    {
     "name": "stderr",
     "output_type": "stream",
     "text": [
      "13it [00:02,  5.10it/s]\n",
      "4it [00:00,  9.07it/s]\n"
     ]
    },
    {
     "name": "stdout",
     "output_type": "stream",
     "text": [
      "Epoch number [12/300] Train Loss: 0.0014, Train Accuracy: 58.4660%, Valid Loss: 0.0016, Valid Accuracy: 64.3693%\n",
      "Validation loss decreased (0.001782 --> 0.001648).  Saving model ...\n"
     ]
    },
    {
     "name": "stderr",
     "output_type": "stream",
     "text": [
      "13it [00:02,  5.12it/s]\n",
      "4it [00:00,  8.93it/s]\n"
     ]
    },
    {
     "name": "stdout",
     "output_type": "stream",
     "text": [
      "Epoch number [13/300] Train Loss: 0.0013, Train Accuracy: 66.9808%, Valid Loss: 0.0014, Valid Accuracy: 75.3576%\n",
      "Validation loss decreased (0.001648 --> 0.001388).  Saving model ...\n"
     ]
    },
    {
     "name": "stderr",
     "output_type": "stream",
     "text": [
      "13it [00:02,  5.14it/s]\n",
      "4it [00:00,  8.93it/s]\n"
     ]
    },
    {
     "name": "stdout",
     "output_type": "stream",
     "text": [
      "Epoch number [14/300] Train Loss: 0.0011, Train Accuracy: 78.0793%, Valid Loss: 0.0009, Valid Accuracy: 86.2809%\n",
      "Validation loss decreased (0.001388 --> 0.000929).  Saving model ...\n"
     ]
    },
    {
     "name": "stderr",
     "output_type": "stream",
     "text": [
      "13it [00:02,  5.15it/s]\n",
      "4it [00:00,  8.85it/s]\n"
     ]
    },
    {
     "name": "stdout",
     "output_type": "stream",
     "text": [
      "Epoch number [15/300] Train Loss: 0.0008, Train Accuracy: 86.1716%, Valid Loss: 0.0010, Valid Accuracy: 91.7425%\n",
      "EarlyStopping counter: 1 out of 30\n"
     ]
    },
    {
     "name": "stderr",
     "output_type": "stream",
     "text": [
      "13it [00:02,  5.16it/s]\n",
      "4it [00:00,  8.85it/s]\n"
     ]
    },
    {
     "name": "stdout",
     "output_type": "stream",
     "text": [
      "Epoch number [16/300] Train Loss: 0.0006, Train Accuracy: 90.2177%, Valid Loss: 0.0006, Valid Accuracy: 92.9779%\n",
      "Validation loss decreased (0.000929 --> 0.000593).  Saving model ...\n"
     ]
    },
    {
     "name": "stderr",
     "output_type": "stream",
     "text": [
      "13it [00:02,  5.16it/s]\n",
      "4it [00:00,  8.81it/s]\n"
     ]
    },
    {
     "name": "stdout",
     "output_type": "stream",
     "text": [
      "Epoch number [17/300] Train Loss: 0.0005, Train Accuracy: 91.9240%, Valid Loss: 0.0006, Valid Accuracy: 89.5319%\n",
      "Validation loss decreased (0.000593 --> 0.000583).  Saving model ...\n"
     ]
    },
    {
     "name": "stderr",
     "output_type": "stream",
     "text": [
      "13it [00:02,  5.11it/s]\n",
      "4it [00:00,  8.97it/s]\n"
     ]
    },
    {
     "name": "stdout",
     "output_type": "stream",
     "text": [
      "Epoch number [18/300] Train Loss: 0.0008, Train Accuracy: 85.8954%, Valid Loss: 0.0008, Valid Accuracy: 89.2718%\n",
      "EarlyStopping counter: 1 out of 30\n"
     ]
    },
    {
     "name": "stderr",
     "output_type": "stream",
     "text": [
      "13it [00:02,  5.15it/s]\n",
      "4it [00:00,  8.87it/s]\n"
     ]
    },
    {
     "name": "stdout",
     "output_type": "stream",
     "text": [
      "Epoch number [19/300] Train Loss: 0.0006, Train Accuracy: 89.5840%, Valid Loss: 0.0008, Valid Accuracy: 90.9623%\n",
      "EarlyStopping counter: 2 out of 30\n"
     ]
    },
    {
     "name": "stderr",
     "output_type": "stream",
     "text": [
      "13it [00:02,  5.17it/s]\n",
      "4it [00:00,  9.03it/s]\n"
     ]
    },
    {
     "name": "stdout",
     "output_type": "stream",
     "text": [
      "Epoch number [20/300] Train Loss: 0.0006, Train Accuracy: 90.6565%, Valid Loss: 0.0006, Valid Accuracy: 93.7581%\n",
      "Validation loss decreased (0.000583 --> 0.000581).  Saving model ...\n"
     ]
    },
    {
     "name": "stderr",
     "output_type": "stream",
     "text": [
      "13it [00:02,  5.13it/s]\n",
      "4it [00:00,  8.89it/s]\n"
     ]
    },
    {
     "name": "stdout",
     "output_type": "stream",
     "text": [
      "Epoch number [21/300] Train Loss: 0.0005, Train Accuracy: 92.2002%, Valid Loss: 0.0008, Valid Accuracy: 89.5969%\n",
      "EarlyStopping counter: 1 out of 30\n"
     ]
    },
    {
     "name": "stderr",
     "output_type": "stream",
     "text": [
      "13it [00:02,  5.13it/s]\n",
      "4it [00:00,  8.60it/s]\n"
     ]
    },
    {
     "name": "stdout",
     "output_type": "stream",
     "text": [
      "Epoch number [22/300] Train Loss: 0.0007, Train Accuracy: 88.6903%, Valid Loss: 0.0005, Valid Accuracy: 92.3277%\n",
      "Validation loss decreased (0.000581 --> 0.000512).  Saving model ...\n"
     ]
    },
    {
     "name": "stderr",
     "output_type": "stream",
     "text": [
      "13it [00:02,  5.08it/s]\n",
      "4it [00:00,  9.01it/s]\n"
     ]
    },
    {
     "name": "stdout",
     "output_type": "stream",
     "text": [
      "Epoch number [23/300] Train Loss: 0.0005, Train Accuracy: 90.9652%, Valid Loss: 0.0007, Valid Accuracy: 92.8479%\n",
      "EarlyStopping counter: 1 out of 30\n"
     ]
    },
    {
     "name": "stderr",
     "output_type": "stream",
     "text": [
      "13it [00:02,  5.16it/s]\n",
      "4it [00:00,  9.09it/s]\n"
     ]
    },
    {
     "name": "stdout",
     "output_type": "stream",
     "text": [
      "Epoch number [24/300] Train Loss: 0.0005, Train Accuracy: 92.1514%, Valid Loss: 0.0005, Valid Accuracy: 92.5228%\n",
      "Validation loss decreased (0.000512 --> 0.000452).  Saving model ...\n"
     ]
    },
    {
     "name": "stderr",
     "output_type": "stream",
     "text": [
      "13it [00:02,  5.14it/s]\n",
      "4it [00:00,  8.91it/s]\n"
     ]
    },
    {
     "name": "stdout",
     "output_type": "stream",
     "text": [
      "Epoch number [25/300] Train Loss: 0.0005, Train Accuracy: 92.2489%, Valid Loss: 0.0004, Valid Accuracy: 94.7334%\n",
      "Validation loss decreased (0.000452 --> 0.000368).  Saving model ...\n"
     ]
    },
    {
     "name": "stderr",
     "output_type": "stream",
     "text": [
      "13it [00:02,  5.17it/s]\n",
      "4it [00:00,  8.97it/s]\n"
     ]
    },
    {
     "name": "stdout",
     "output_type": "stream",
     "text": [
      "Epoch number [26/300] Train Loss: 0.0004, Train Accuracy: 93.7277%, Valid Loss: 0.0004, Valid Accuracy: 94.9935%\n",
      "Validation loss decreased (0.000368 --> 0.000368).  Saving model ...\n"
     ]
    },
    {
     "name": "stderr",
     "output_type": "stream",
     "text": [
      "13it [00:02,  5.17it/s]\n",
      "4it [00:00,  9.03it/s]\n"
     ]
    },
    {
     "name": "stdout",
     "output_type": "stream",
     "text": [
      "Epoch number [27/300] Train Loss: 0.0004, Train Accuracy: 93.5164%, Valid Loss: 0.0008, Valid Accuracy: 94.9285%\n",
      "EarlyStopping counter: 1 out of 30\n"
     ]
    },
    {
     "name": "stderr",
     "output_type": "stream",
     "text": [
      "13it [00:02,  5.09it/s]\n",
      "4it [00:00,  8.97it/s]\n"
     ]
    },
    {
     "name": "stdout",
     "output_type": "stream",
     "text": [
      "Epoch number [28/300] Train Loss: 0.0003, Train Accuracy: 94.5076%, Valid Loss: 0.0009, Valid Accuracy: 94.9285%\n",
      "EarlyStopping counter: 2 out of 30\n"
     ]
    },
    {
     "name": "stderr",
     "output_type": "stream",
     "text": [
      "13it [00:02,  5.15it/s]\n",
      "4it [00:00,  9.03it/s]\n"
     ]
    },
    {
     "name": "stdout",
     "output_type": "stream",
     "text": [
      "Epoch number [29/300] Train Loss: 0.0003, Train Accuracy: 94.4426%, Valid Loss: 0.0003, Valid Accuracy: 95.5787%\n",
      "Validation loss decreased (0.000368 --> 0.000288).  Saving model ...\n"
     ]
    },
    {
     "name": "stderr",
     "output_type": "stream",
     "text": [
      "13it [00:02,  5.16it/s]\n",
      "4it [00:00,  8.97it/s]\n"
     ]
    },
    {
     "name": "stdout",
     "output_type": "stream",
     "text": [
      "Epoch number [30/300] Train Loss: 0.0003, Train Accuracy: 94.8976%, Valid Loss: 0.0003, Valid Accuracy: 95.1235%\n",
      "Validation loss decreased (0.000288 --> 0.000281).  Saving model ...\n"
     ]
    },
    {
     "name": "stderr",
     "output_type": "stream",
     "text": [
      "13it [00:02,  5.09it/s]\n",
      "4it [00:00,  8.93it/s]\n"
     ]
    },
    {
     "name": "stdout",
     "output_type": "stream",
     "text": [
      "Epoch number [31/300] Train Loss: 0.0003, Train Accuracy: 94.1339%, Valid Loss: 0.0003, Valid Accuracy: 94.2783%\n",
      "Validation loss decreased (0.000281 --> 0.000278).  Saving model ...\n"
     ]
    },
    {
     "name": "stderr",
     "output_type": "stream",
     "text": [
      "13it [00:02,  5.14it/s]\n",
      "4it [00:00,  8.89it/s]\n"
     ]
    },
    {
     "name": "stdout",
     "output_type": "stream",
     "text": [
      "Epoch number [32/300] Train Loss: 0.0004, Train Accuracy: 94.1664%, Valid Loss: 0.0003, Valid Accuracy: 95.5137%\n",
      "EarlyStopping counter: 1 out of 30\n"
     ]
    },
    {
     "name": "stderr",
     "output_type": "stream",
     "text": [
      "13it [00:02,  5.08it/s]\n",
      "4it [00:00,  8.70it/s]\n"
     ]
    },
    {
     "name": "stdout",
     "output_type": "stream",
     "text": [
      "Epoch number [33/300] Train Loss: 0.0004, Train Accuracy: 94.0689%, Valid Loss: 0.0003, Valid Accuracy: 95.8388%\n",
      "EarlyStopping counter: 2 out of 30\n"
     ]
    },
    {
     "name": "stderr",
     "output_type": "stream",
     "text": [
      "13it [00:02,  5.17it/s]\n",
      "4it [00:00,  8.83it/s]\n"
     ]
    },
    {
     "name": "stdout",
     "output_type": "stream",
     "text": [
      "Epoch number [34/300] Train Loss: 0.0003, Train Accuracy: 95.3201%, Valid Loss: 0.0004, Valid Accuracy: 95.7737%\n",
      "EarlyStopping counter: 3 out of 30\n"
     ]
    },
    {
     "name": "stderr",
     "output_type": "stream",
     "text": [
      "13it [00:02,  5.14it/s]\n",
      "4it [00:00,  8.89it/s]\n"
     ]
    },
    {
     "name": "stdout",
     "output_type": "stream",
     "text": [
      "Epoch number [35/300] Train Loss: 0.0003, Train Accuracy: 95.1739%, Valid Loss: 0.0003, Valid Accuracy: 95.6437%\n",
      "Validation loss decreased (0.000278 --> 0.000273).  Saving model ...\n"
     ]
    },
    {
     "name": "stderr",
     "output_type": "stream",
     "text": [
      "13it [00:02,  5.14it/s]\n",
      "4it [00:00,  9.05it/s]\n"
     ]
    },
    {
     "name": "stdout",
     "output_type": "stream",
     "text": [
      "Epoch number [36/300] Train Loss: 0.0003, Train Accuracy: 95.3364%, Valid Loss: 0.0003, Valid Accuracy: 96.0338%\n",
      "Validation loss decreased (0.000273 --> 0.000252).  Saving model ...\n"
     ]
    },
    {
     "name": "stderr",
     "output_type": "stream",
     "text": [
      "13it [00:02,  5.12it/s]\n",
      "4it [00:00,  8.93it/s]\n"
     ]
    },
    {
     "name": "stdout",
     "output_type": "stream",
     "text": [
      "Epoch number [37/300] Train Loss: 0.0003, Train Accuracy: 95.3039%, Valid Loss: 0.0003, Valid Accuracy: 96.2289%\n",
      "EarlyStopping counter: 1 out of 30\n"
     ]
    },
    {
     "name": "stderr",
     "output_type": "stream",
     "text": [
      "13it [00:02,  5.16it/s]\n",
      "4it [00:00,  8.64it/s]\n"
     ]
    },
    {
     "name": "stdout",
     "output_type": "stream",
     "text": [
      "Epoch number [38/300] Train Loss: 0.0003, Train Accuracy: 95.1576%, Valid Loss: 0.0002, Valid Accuracy: 95.9688%\n",
      "Validation loss decreased (0.000252 --> 0.000240).  Saving model ...\n"
     ]
    },
    {
     "name": "stderr",
     "output_type": "stream",
     "text": [
      "13it [00:02,  5.15it/s]\n",
      "4it [00:00,  8.95it/s]\n"
     ]
    },
    {
     "name": "stdout",
     "output_type": "stream",
     "text": [
      "Epoch number [39/300] Train Loss: 0.0003, Train Accuracy: 95.1414%, Valid Loss: 0.0002, Valid Accuracy: 96.0988%\n",
      "Validation loss decreased (0.000240 --> 0.000222).  Saving model ...\n"
     ]
    },
    {
     "name": "stderr",
     "output_type": "stream",
     "text": [
      "13it [00:02,  5.16it/s]\n",
      "4it [00:00,  9.03it/s]\n"
     ]
    },
    {
     "name": "stdout",
     "output_type": "stream",
     "text": [
      "Epoch number [40/300] Train Loss: 0.0003, Train Accuracy: 94.6376%, Valid Loss: 0.0002, Valid Accuracy: 96.6190%\n",
      "EarlyStopping counter: 1 out of 30\n"
     ]
    },
    {
     "name": "stderr",
     "output_type": "stream",
     "text": [
      "13it [00:02,  5.17it/s]\n",
      "4it [00:00,  8.83it/s]\n"
     ]
    },
    {
     "name": "stdout",
     "output_type": "stream",
     "text": [
      "Epoch number [41/300] Train Loss: 0.0003, Train Accuracy: 95.5314%, Valid Loss: 0.0003, Valid Accuracy: 94.1482%\n",
      "EarlyStopping counter: 2 out of 30\n"
     ]
    },
    {
     "name": "stderr",
     "output_type": "stream",
     "text": [
      "13it [00:02,  5.10it/s]\n",
      "4it [00:00,  8.97it/s]\n"
     ]
    },
    {
     "name": "stdout",
     "output_type": "stream",
     "text": [
      "Epoch number [42/300] Train Loss: 0.0003, Train Accuracy: 95.2551%, Valid Loss: 0.0002, Valid Accuracy: 95.7087%\n",
      "EarlyStopping counter: 3 out of 30\n"
     ]
    },
    {
     "name": "stderr",
     "output_type": "stream",
     "text": [
      "13it [00:02,  5.13it/s]\n",
      "4it [00:00,  8.85it/s]\n"
     ]
    },
    {
     "name": "stdout",
     "output_type": "stream",
     "text": [
      "Epoch number [43/300] Train Loss: 0.0002, Train Accuracy: 95.8401%, Valid Loss: 0.0003, Valid Accuracy: 96.4239%\n",
      "EarlyStopping counter: 4 out of 30\n"
     ]
    },
    {
     "name": "stderr",
     "output_type": "stream",
     "text": [
      "13it [00:02,  5.15it/s]\n",
      "4it [00:00,  9.03it/s]\n"
     ]
    },
    {
     "name": "stdout",
     "output_type": "stream",
     "text": [
      "Epoch number [44/300] Train Loss: 0.0003, Train Accuracy: 95.8401%, Valid Loss: 0.0003, Valid Accuracy: 96.5540%\n",
      "EarlyStopping counter: 5 out of 30\n"
     ]
    },
    {
     "name": "stderr",
     "output_type": "stream",
     "text": [
      "13it [00:02,  5.15it/s]\n",
      "4it [00:00,  8.95it/s]\n"
     ]
    },
    {
     "name": "stdout",
     "output_type": "stream",
     "text": [
      "Epoch number [45/300] Train Loss: 0.0002, Train Accuracy: 95.9864%, Valid Loss: 0.0003, Valid Accuracy: 96.5540%\n",
      "EarlyStopping counter: 6 out of 30\n"
     ]
    },
    {
     "name": "stderr",
     "output_type": "stream",
     "text": [
      "13it [00:02,  5.11it/s]\n",
      "4it [00:00,  8.89it/s]\n"
     ]
    },
    {
     "name": "stdout",
     "output_type": "stream",
     "text": [
      "Epoch number [46/300] Train Loss: 0.0002, Train Accuracy: 95.7589%, Valid Loss: 0.0002, Valid Accuracy: 96.4889%\n",
      "EarlyStopping counter: 7 out of 30\n"
     ]
    },
    {
     "name": "stderr",
     "output_type": "stream",
     "text": [
      "13it [00:02,  5.08it/s]\n",
      "4it [00:00,  8.95it/s]\n"
     ]
    },
    {
     "name": "stdout",
     "output_type": "stream",
     "text": [
      "Epoch number [47/300] Train Loss: 0.0002, Train Accuracy: 95.9376%, Valid Loss: 0.0003, Valid Accuracy: 96.8140%\n",
      "EarlyStopping counter: 8 out of 30\n"
     ]
    },
    {
     "name": "stderr",
     "output_type": "stream",
     "text": [
      "13it [00:02,  5.15it/s]\n",
      "4it [00:00,  8.81it/s]\n"
     ]
    },
    {
     "name": "stdout",
     "output_type": "stream",
     "text": [
      "Epoch number [48/300] Train Loss: 0.0002, Train Accuracy: 96.1813%, Valid Loss: 0.0002, Valid Accuracy: 96.9441%\n",
      "Validation loss decreased (0.000222 --> 0.000203).  Saving model ...\n"
     ]
    },
    {
     "name": "stderr",
     "output_type": "stream",
     "text": [
      "13it [00:02,  5.14it/s]\n",
      "4it [00:00,  8.89it/s]\n"
     ]
    },
    {
     "name": "stdout",
     "output_type": "stream",
     "text": [
      "Epoch number [49/300] Train Loss: 0.0002, Train Accuracy: 96.2301%, Valid Loss: 0.0002, Valid Accuracy: 96.7490%\n",
      "EarlyStopping counter: 1 out of 30\n"
     ]
    },
    {
     "name": "stderr",
     "output_type": "stream",
     "text": [
      "13it [00:02,  5.12it/s]\n",
      "4it [00:00,  8.79it/s]\n"
     ]
    },
    {
     "name": "stdout",
     "output_type": "stream",
     "text": [
      "Epoch number [50/300] Train Loss: 0.0002, Train Accuracy: 96.2626%, Valid Loss: 0.0003, Valid Accuracy: 96.8791%\n",
      "EarlyStopping counter: 2 out of 30\n"
     ]
    },
    {
     "name": "stderr",
     "output_type": "stream",
     "text": [
      "13it [00:02,  5.11it/s]\n",
      "4it [00:00,  8.95it/s]\n"
     ]
    },
    {
     "name": "stdout",
     "output_type": "stream",
     "text": [
      "Epoch number [51/300] Train Loss: 0.0002, Train Accuracy: 96.3763%, Valid Loss: 0.0003, Valid Accuracy: 96.6190%\n",
      "EarlyStopping counter: 3 out of 30\n"
     ]
    },
    {
     "name": "stderr",
     "output_type": "stream",
     "text": [
      "13it [00:02,  5.09it/s]\n",
      "4it [00:00,  8.93it/s]\n"
     ]
    },
    {
     "name": "stdout",
     "output_type": "stream",
     "text": [
      "Epoch number [52/300] Train Loss: 0.0002, Train Accuracy: 96.5876%, Valid Loss: 0.0002, Valid Accuracy: 96.7490%\n",
      "EarlyStopping counter: 4 out of 30\n"
     ]
    },
    {
     "name": "stderr",
     "output_type": "stream",
     "text": [
      "13it [00:02,  4.96it/s]\n",
      "4it [00:00,  8.24it/s]\n"
     ]
    },
    {
     "name": "stdout",
     "output_type": "stream",
     "text": [
      "Epoch number [53/300] Train Loss: 0.0002, Train Accuracy: 96.4413%, Valid Loss: 0.0002, Valid Accuracy: 96.7490%\n",
      "EarlyStopping counter: 5 out of 30\n"
     ]
    },
    {
     "name": "stderr",
     "output_type": "stream",
     "text": [
      "13it [00:02,  5.07it/s]\n",
      "4it [00:00,  8.93it/s]\n"
     ]
    },
    {
     "name": "stdout",
     "output_type": "stream",
     "text": [
      "Epoch number [54/300] Train Loss: 0.0002, Train Accuracy: 96.4251%, Valid Loss: 0.0002, Valid Accuracy: 96.7490%\n",
      "EarlyStopping counter: 6 out of 30\n"
     ]
    },
    {
     "name": "stderr",
     "output_type": "stream",
     "text": [
      "13it [00:02,  5.09it/s]\n",
      "4it [00:00,  8.76it/s]\n"
     ]
    },
    {
     "name": "stdout",
     "output_type": "stream",
     "text": [
      "Epoch number [55/300] Train Loss: 0.0002, Train Accuracy: 96.4088%, Valid Loss: 0.0002, Valid Accuracy: 96.5540%\n",
      "Validation loss decreased (0.000203 --> 0.000201).  Saving model ...\n"
     ]
    },
    {
     "name": "stderr",
     "output_type": "stream",
     "text": [
      "13it [00:02,  4.90it/s]\n",
      "4it [00:00,  8.39it/s]\n"
     ]
    },
    {
     "name": "stdout",
     "output_type": "stream",
     "text": [
      "Epoch number [56/300] Train Loss: 0.0003, Train Accuracy: 96.2788%, Valid Loss: 0.0004, Valid Accuracy: 96.6190%\n",
      "EarlyStopping counter: 1 out of 30\n"
     ]
    },
    {
     "name": "stderr",
     "output_type": "stream",
     "text": [
      "13it [00:02,  5.07it/s]\n",
      "4it [00:00,  8.72it/s]\n"
     ]
    },
    {
     "name": "stdout",
     "output_type": "stream",
     "text": [
      "Epoch number [57/300] Train Loss: 0.0002, Train Accuracy: 96.3763%, Valid Loss: 0.0002, Valid Accuracy: 96.4239%\n",
      "Validation loss decreased (0.000201 --> 0.000201).  Saving model ...\n"
     ]
    },
    {
     "name": "stderr",
     "output_type": "stream",
     "text": [
      "13it [00:02,  5.11it/s]\n",
      "4it [00:00,  8.87it/s]\n"
     ]
    },
    {
     "name": "stdout",
     "output_type": "stream",
     "text": [
      "Epoch number [58/300] Train Loss: 0.0003, Train Accuracy: 96.0351%, Valid Loss: 0.0002, Valid Accuracy: 96.6840%\n",
      "Validation loss decreased (0.000201 --> 0.000187).  Saving model ...\n"
     ]
    },
    {
     "name": "stderr",
     "output_type": "stream",
     "text": [
      "13it [00:02,  5.14it/s]\n",
      "4it [00:00,  8.97it/s]\n"
     ]
    },
    {
     "name": "stdout",
     "output_type": "stream",
     "text": [
      "Epoch number [59/300] Train Loss: 0.0002, Train Accuracy: 96.4738%, Valid Loss: 0.0002, Valid Accuracy: 96.9441%\n",
      "EarlyStopping counter: 1 out of 30\n"
     ]
    },
    {
     "name": "stderr",
     "output_type": "stream",
     "text": [
      "13it [00:02,  5.12it/s]\n",
      "4it [00:00,  8.89it/s]\n"
     ]
    },
    {
     "name": "stdout",
     "output_type": "stream",
     "text": [
      "Epoch number [60/300] Train Loss: 0.0002, Train Accuracy: 96.6526%, Valid Loss: 0.0002, Valid Accuracy: 96.5540%\n",
      "EarlyStopping counter: 2 out of 30\n"
     ]
    },
    {
     "name": "stderr",
     "output_type": "stream",
     "text": [
      "13it [00:02,  5.12it/s]\n",
      "4it [00:00,  8.99it/s]\n"
     ]
    },
    {
     "name": "stdout",
     "output_type": "stream",
     "text": [
      "Epoch number [61/300] Train Loss: 0.0003, Train Accuracy: 95.1576%, Valid Loss: 0.0002, Valid Accuracy: 96.6840%\n",
      "EarlyStopping counter: 3 out of 30\n"
     ]
    },
    {
     "name": "stderr",
     "output_type": "stream",
     "text": [
      "13it [00:02,  5.11it/s]\n",
      "4it [00:00,  9.03it/s]\n"
     ]
    },
    {
     "name": "stdout",
     "output_type": "stream",
     "text": [
      "Epoch number [62/300] Train Loss: 0.0002, Train Accuracy: 96.6363%, Valid Loss: 0.0002, Valid Accuracy: 96.9441%\n",
      "EarlyStopping counter: 4 out of 30\n"
     ]
    },
    {
     "name": "stderr",
     "output_type": "stream",
     "text": [
      "13it [00:02,  5.15it/s]\n",
      "4it [00:00,  8.97it/s]\n"
     ]
    },
    {
     "name": "stdout",
     "output_type": "stream",
     "text": [
      "Epoch number [63/300] Train Loss: 0.0003, Train Accuracy: 96.4251%, Valid Loss: 0.0003, Valid Accuracy: 95.6437%\n",
      "EarlyStopping counter: 5 out of 30\n"
     ]
    },
    {
     "name": "stderr",
     "output_type": "stream",
     "text": [
      "13it [00:02,  5.03it/s]\n",
      "4it [00:00,  8.91it/s]\n"
     ]
    },
    {
     "name": "stdout",
     "output_type": "stream",
     "text": [
      "Epoch number [64/300] Train Loss: 0.0002, Train Accuracy: 96.2463%, Valid Loss: 0.0003, Valid Accuracy: 96.6190%\n",
      "EarlyStopping counter: 6 out of 30\n"
     ]
    },
    {
     "name": "stderr",
     "output_type": "stream",
     "text": [
      "13it [00:02,  5.14it/s]\n",
      "4it [00:00,  9.02it/s]\n"
     ]
    },
    {
     "name": "stdout",
     "output_type": "stream",
     "text": [
      "Epoch number [65/300] Train Loss: 0.0002, Train Accuracy: 96.6038%, Valid Loss: 0.0002, Valid Accuracy: 96.9441%\n",
      "EarlyStopping counter: 7 out of 30\n"
     ]
    },
    {
     "name": "stderr",
     "output_type": "stream",
     "text": [
      "13it [00:02,  5.10it/s]\n",
      "4it [00:00,  8.39it/s]\n"
     ]
    },
    {
     "name": "stdout",
     "output_type": "stream",
     "text": [
      "Epoch number [66/300] Train Loss: 0.0003, Train Accuracy: 96.1163%, Valid Loss: 0.0005, Valid Accuracy: 96.4239%\n",
      "EarlyStopping counter: 8 out of 30\n"
     ]
    },
    {
     "name": "stderr",
     "output_type": "stream",
     "text": [
      "13it [00:02,  5.12it/s]\n",
      "4it [00:00,  9.01it/s]\n"
     ]
    },
    {
     "name": "stdout",
     "output_type": "stream",
     "text": [
      "Epoch number [67/300] Train Loss: 0.0002, Train Accuracy: 96.3763%, Valid Loss: 0.0003, Valid Accuracy: 97.0091%\n",
      "EarlyStopping counter: 9 out of 30\n"
     ]
    },
    {
     "name": "stderr",
     "output_type": "stream",
     "text": [
      "13it [00:02,  5.15it/s]\n",
      "4it [00:00,  8.64it/s]\n"
     ]
    },
    {
     "name": "stdout",
     "output_type": "stream",
     "text": [
      "Epoch number [68/300] Train Loss: 0.0002, Train Accuracy: 96.7501%, Valid Loss: 0.0002, Valid Accuracy: 96.6840%\n",
      "EarlyStopping counter: 10 out of 30\n"
     ]
    },
    {
     "name": "stderr",
     "output_type": "stream",
     "text": [
      "13it [00:02,  5.11it/s]\n",
      "4it [00:00,  8.95it/s]\n"
     ]
    },
    {
     "name": "stdout",
     "output_type": "stream",
     "text": [
      "Epoch number [69/300] Train Loss: 0.0002, Train Accuracy: 96.4251%, Valid Loss: 0.0002, Valid Accuracy: 96.8791%\n",
      "EarlyStopping counter: 11 out of 30\n"
     ]
    },
    {
     "name": "stderr",
     "output_type": "stream",
     "text": [
      "13it [00:02,  5.01it/s]\n",
      "4it [00:00,  8.17it/s]\n"
     ]
    },
    {
     "name": "stdout",
     "output_type": "stream",
     "text": [
      "Epoch number [70/300] Train Loss: 0.0002, Train Accuracy: 96.8151%, Valid Loss: 0.0002, Valid Accuracy: 97.0741%\n",
      "EarlyStopping counter: 12 out of 30\n"
     ]
    },
    {
     "name": "stderr",
     "output_type": "stream",
     "text": [
      "13it [00:02,  5.09it/s]\n",
      "4it [00:00,  8.67it/s]\n"
     ]
    },
    {
     "name": "stdout",
     "output_type": "stream",
     "text": [
      "Epoch number [71/300] Train Loss: 0.0003, Train Accuracy: 96.8963%, Valid Loss: 0.0002, Valid Accuracy: 97.0741%\n",
      "Validation loss decreased (0.000187 --> 0.000184).  Saving model ...\n"
     ]
    },
    {
     "name": "stderr",
     "output_type": "stream",
     "text": [
      "13it [00:02,  5.02it/s]\n",
      "4it [00:00,  8.55it/s]\n"
     ]
    },
    {
     "name": "stdout",
     "output_type": "stream",
     "text": [
      "Epoch number [72/300] Train Loss: 0.0002, Train Accuracy: 96.3438%, Valid Loss: 0.0005, Valid Accuracy: 96.6840%\n",
      "EarlyStopping counter: 1 out of 30\n"
     ]
    },
    {
     "name": "stderr",
     "output_type": "stream",
     "text": [
      "13it [00:02,  4.84it/s]\n",
      "4it [00:00,  8.85it/s]\n"
     ]
    },
    {
     "name": "stdout",
     "output_type": "stream",
     "text": [
      "Epoch number [73/300] Train Loss: 0.0002, Train Accuracy: 96.7176%, Valid Loss: 0.0005, Valid Accuracy: 97.0741%\n",
      "EarlyStopping counter: 2 out of 30\n"
     ]
    },
    {
     "name": "stderr",
     "output_type": "stream",
     "text": [
      "13it [00:02,  5.04it/s]\n",
      "4it [00:00,  8.85it/s]\n"
     ]
    },
    {
     "name": "stdout",
     "output_type": "stream",
     "text": [
      "Epoch number [74/300] Train Loss: 0.0002, Train Accuracy: 96.7501%, Valid Loss: 0.0002, Valid Accuracy: 96.9441%\n",
      "EarlyStopping counter: 3 out of 30\n"
     ]
    },
    {
     "name": "stderr",
     "output_type": "stream",
     "text": [
      "13it [00:02,  5.14it/s]\n",
      "4it [00:00,  8.91it/s]\n"
     ]
    },
    {
     "name": "stdout",
     "output_type": "stream",
     "text": [
      "Epoch number [75/300] Train Loss: 0.0002, Train Accuracy: 97.0101%, Valid Loss: 0.0002, Valid Accuracy: 97.0091%\n",
      "EarlyStopping counter: 4 out of 30\n"
     ]
    },
    {
     "name": "stderr",
     "output_type": "stream",
     "text": [
      "13it [00:02,  5.15it/s]\n",
      "4it [00:00,  8.63it/s]\n"
     ]
    },
    {
     "name": "stdout",
     "output_type": "stream",
     "text": [
      "Epoch number [76/300] Train Loss: 0.0002, Train Accuracy: 97.1076%, Valid Loss: 0.0002, Valid Accuracy: 97.2692%\n",
      "Validation loss decreased (0.000184 --> 0.000171).  Saving model ...\n"
     ]
    },
    {
     "name": "stderr",
     "output_type": "stream",
     "text": [
      "13it [00:02,  5.13it/s]\n",
      "4it [00:00,  8.81it/s]\n"
     ]
    },
    {
     "name": "stdout",
     "output_type": "stream",
     "text": [
      "Epoch number [77/300] Train Loss: 0.0002, Train Accuracy: 96.6201%, Valid Loss: 0.0003, Valid Accuracy: 96.6190%\n",
      "EarlyStopping counter: 1 out of 30\n"
     ]
    },
    {
     "name": "stderr",
     "output_type": "stream",
     "text": [
      "13it [00:02,  5.16it/s]\n",
      "4it [00:00,  8.66it/s]\n"
     ]
    },
    {
     "name": "stdout",
     "output_type": "stream",
     "text": [
      "Epoch number [78/300] Train Loss: 0.0002, Train Accuracy: 96.3926%, Valid Loss: 0.0004, Valid Accuracy: 97.2692%\n",
      "EarlyStopping counter: 2 out of 30\n"
     ]
    },
    {
     "name": "stderr",
     "output_type": "stream",
     "text": [
      "13it [00:02,  5.08it/s]\n",
      "4it [00:00,  8.64it/s]\n"
     ]
    },
    {
     "name": "stdout",
     "output_type": "stream",
     "text": [
      "Epoch number [79/300] Train Loss: 0.0002, Train Accuracy: 96.8638%, Valid Loss: 0.0003, Valid Accuracy: 96.2289%\n",
      "EarlyStopping counter: 3 out of 30\n"
     ]
    },
    {
     "name": "stderr",
     "output_type": "stream",
     "text": [
      "13it [00:02,  5.12it/s]\n",
      "4it [00:00,  8.93it/s]\n"
     ]
    },
    {
     "name": "stdout",
     "output_type": "stream",
     "text": [
      "Epoch number [80/300] Train Loss: 0.0002, Train Accuracy: 96.7501%, Valid Loss: 0.0002, Valid Accuracy: 97.0741%\n",
      "Validation loss decreased (0.000171 --> 0.000164).  Saving model ...\n"
     ]
    },
    {
     "name": "stderr",
     "output_type": "stream",
     "text": [
      "13it [00:02,  5.13it/s]\n",
      "4it [00:00,  8.93it/s]\n"
     ]
    },
    {
     "name": "stdout",
     "output_type": "stream",
     "text": [
      "Epoch number [81/300] Train Loss: 0.0002, Train Accuracy: 96.9613%, Valid Loss: 0.0007, Valid Accuracy: 97.3992%\n",
      "EarlyStopping counter: 1 out of 30\n"
     ]
    },
    {
     "name": "stderr",
     "output_type": "stream",
     "text": [
      "13it [00:02,  5.14it/s]\n",
      "4it [00:00,  8.83it/s]\n"
     ]
    },
    {
     "name": "stdout",
     "output_type": "stream",
     "text": [
      "Epoch number [82/300] Train Loss: 0.0002, Train Accuracy: 97.1401%, Valid Loss: 0.0002, Valid Accuracy: 97.2692%\n",
      "EarlyStopping counter: 2 out of 30\n"
     ]
    },
    {
     "name": "stderr",
     "output_type": "stream",
     "text": [
      "13it [00:02,  5.12it/s]\n",
      "4it [00:00,  8.91it/s]\n"
     ]
    },
    {
     "name": "stdout",
     "output_type": "stream",
     "text": [
      "Epoch number [83/300] Train Loss: 0.0002, Train Accuracy: 97.0263%, Valid Loss: 0.0002, Valid Accuracy: 97.2692%\n",
      "EarlyStopping counter: 3 out of 30\n"
     ]
    },
    {
     "name": "stderr",
     "output_type": "stream",
     "text": [
      "13it [00:02,  5.11it/s]\n",
      "4it [00:00,  9.01it/s]\n"
     ]
    },
    {
     "name": "stdout",
     "output_type": "stream",
     "text": [
      "Epoch number [84/300] Train Loss: 0.0002, Train Accuracy: 96.8801%, Valid Loss: 0.0004, Valid Accuracy: 95.1235%\n",
      "EarlyStopping counter: 4 out of 30\n"
     ]
    },
    {
     "name": "stderr",
     "output_type": "stream",
     "text": [
      "13it [00:02,  5.06it/s]\n",
      "4it [00:00,  8.91it/s]\n"
     ]
    },
    {
     "name": "stdout",
     "output_type": "stream",
     "text": [
      "Epoch number [85/300] Train Loss: 0.0002, Train Accuracy: 96.3601%, Valid Loss: 0.0002, Valid Accuracy: 96.5540%\n",
      "EarlyStopping counter: 5 out of 30\n"
     ]
    },
    {
     "name": "stderr",
     "output_type": "stream",
     "text": [
      "13it [00:02,  5.13it/s]\n",
      "4it [00:00,  8.85it/s]\n"
     ]
    },
    {
     "name": "stdout",
     "output_type": "stream",
     "text": [
      "Epoch number [86/300] Train Loss: 0.0003, Train Accuracy: 96.5226%, Valid Loss: 0.0002, Valid Accuracy: 96.6190%\n",
      "EarlyStopping counter: 6 out of 30\n"
     ]
    },
    {
     "name": "stderr",
     "output_type": "stream",
     "text": [
      "13it [00:02,  5.11it/s]\n",
      "4it [00:00,  8.65it/s]\n"
     ]
    },
    {
     "name": "stdout",
     "output_type": "stream",
     "text": [
      "Epoch number [87/300] Train Loss: 0.0002, Train Accuracy: 96.2626%, Valid Loss: 0.0003, Valid Accuracy: 97.3342%\n",
      "EarlyStopping counter: 7 out of 30\n"
     ]
    },
    {
     "name": "stderr",
     "output_type": "stream",
     "text": [
      "13it [00:02,  5.11it/s]\n",
      "4it [00:00,  8.87it/s]\n"
     ]
    },
    {
     "name": "stdout",
     "output_type": "stream",
     "text": [
      "Epoch number [88/300] Train Loss: 0.0002, Train Accuracy: 96.9451%, Valid Loss: 0.0002, Valid Accuracy: 97.5293%\n",
      "Validation loss decreased (0.000164 --> 0.000162).  Saving model ...\n"
     ]
    },
    {
     "name": "stderr",
     "output_type": "stream",
     "text": [
      "13it [00:02,  5.14it/s]\n",
      "4it [00:00,  8.81it/s]\n"
     ]
    },
    {
     "name": "stdout",
     "output_type": "stream",
     "text": [
      "Epoch number [89/300] Train Loss: 0.0002, Train Accuracy: 97.2863%, Valid Loss: 0.0002, Valid Accuracy: 97.3992%\n",
      "EarlyStopping counter: 1 out of 30\n"
     ]
    },
    {
     "name": "stderr",
     "output_type": "stream",
     "text": [
      "13it [00:02,  5.15it/s]\n",
      "4it [00:00,  8.53it/s]\n"
     ]
    },
    {
     "name": "stdout",
     "output_type": "stream",
     "text": [
      "Epoch number [90/300] Train Loss: 0.0002, Train Accuracy: 97.2213%, Valid Loss: 0.0003, Valid Accuracy: 97.3342%\n",
      "EarlyStopping counter: 2 out of 30\n"
     ]
    },
    {
     "name": "stderr",
     "output_type": "stream",
     "text": [
      "13it [00:02,  5.09it/s]\n",
      "4it [00:00,  8.85it/s]\n"
     ]
    },
    {
     "name": "stdout",
     "output_type": "stream",
     "text": [
      "Epoch number [91/300] Train Loss: 0.0003, Train Accuracy: 97.0751%, Valid Loss: 0.0002, Valid Accuracy: 97.0741%\n",
      "EarlyStopping counter: 3 out of 30\n"
     ]
    },
    {
     "name": "stderr",
     "output_type": "stream",
     "text": [
      "13it [00:02,  5.15it/s]\n",
      "4it [00:00,  8.93it/s]\n"
     ]
    },
    {
     "name": "stdout",
     "output_type": "stream",
     "text": [
      "Epoch number [92/300] Train Loss: 0.0002, Train Accuracy: 96.7013%, Valid Loss: 0.0002, Valid Accuracy: 97.0091%\n",
      "EarlyStopping counter: 4 out of 30\n"
     ]
    },
    {
     "name": "stderr",
     "output_type": "stream",
     "text": [
      "13it [00:02,  5.08it/s]\n",
      "4it [00:00,  8.74it/s]\n"
     ]
    },
    {
     "name": "stdout",
     "output_type": "stream",
     "text": [
      "Epoch number [93/300] Train Loss: 0.0002, Train Accuracy: 96.7013%, Valid Loss: 0.0002, Valid Accuracy: 97.3992%\n",
      "EarlyStopping counter: 5 out of 30\n"
     ]
    },
    {
     "name": "stderr",
     "output_type": "stream",
     "text": [
      "13it [00:02,  5.15it/s]\n",
      "4it [00:00,  8.97it/s]\n"
     ]
    },
    {
     "name": "stdout",
     "output_type": "stream",
     "text": [
      "Epoch number [94/300] Train Loss: 0.0002, Train Accuracy: 97.0913%, Valid Loss: 0.0002, Valid Accuracy: 97.3992%\n",
      "EarlyStopping counter: 6 out of 30\n"
     ]
    },
    {
     "name": "stderr",
     "output_type": "stream",
     "text": [
      "13it [00:02,  4.87it/s]\n",
      "4it [00:00,  8.74it/s]\n"
     ]
    },
    {
     "name": "stdout",
     "output_type": "stream",
     "text": [
      "Epoch number [95/300] Train Loss: 0.0002, Train Accuracy: 97.0588%, Valid Loss: 0.0002, Valid Accuracy: 97.6593%\n",
      "EarlyStopping counter: 7 out of 30\n"
     ]
    },
    {
     "name": "stderr",
     "output_type": "stream",
     "text": [
      "13it [00:02,  5.12it/s]\n",
      "4it [00:00,  8.89it/s]\n"
     ]
    },
    {
     "name": "stdout",
     "output_type": "stream",
     "text": [
      "Epoch number [96/300] Train Loss: 0.0002, Train Accuracy: 97.3026%, Valid Loss: 0.0002, Valid Accuracy: 97.6593%\n",
      "EarlyStopping counter: 8 out of 30\n"
     ]
    },
    {
     "name": "stderr",
     "output_type": "stream",
     "text": [
      "13it [00:02,  5.03it/s]\n",
      "4it [00:00,  8.83it/s]\n"
     ]
    },
    {
     "name": "stdout",
     "output_type": "stream",
     "text": [
      "Epoch number [97/300] Train Loss: 0.0002, Train Accuracy: 97.1888%, Valid Loss: 0.0002, Valid Accuracy: 97.7243%\n",
      "EarlyStopping counter: 9 out of 30\n"
     ]
    },
    {
     "name": "stderr",
     "output_type": "stream",
     "text": [
      "13it [00:02,  5.12it/s]\n",
      "4it [00:00,  8.97it/s]\n"
     ]
    },
    {
     "name": "stdout",
     "output_type": "stream",
     "text": [
      "Epoch number [98/300] Train Loss: 0.0002, Train Accuracy: 97.3676%, Valid Loss: 0.0002, Valid Accuracy: 97.7893%\n",
      "Validation loss decreased (0.000162 --> 0.000151).  Saving model ...\n"
     ]
    },
    {
     "name": "stderr",
     "output_type": "stream",
     "text": [
      "13it [00:02,  5.15it/s]\n",
      "4it [00:00,  9.03it/s]\n"
     ]
    },
    {
     "name": "stdout",
     "output_type": "stream",
     "text": [
      "Epoch number [99/300] Train Loss: 0.0002, Train Accuracy: 97.5788%, Valid Loss: 0.0002, Valid Accuracy: 97.5293%\n",
      "EarlyStopping counter: 1 out of 30\n"
     ]
    },
    {
     "name": "stderr",
     "output_type": "stream",
     "text": [
      "13it [00:02,  5.08it/s]\n",
      "4it [00:00,  8.99it/s]\n"
     ]
    },
    {
     "name": "stdout",
     "output_type": "stream",
     "text": [
      "Epoch number [100/300] Train Loss: 0.0002, Train Accuracy: 97.1888%, Valid Loss: 0.0002, Valid Accuracy: 97.6593%\n",
      "EarlyStopping counter: 2 out of 30\n"
     ]
    },
    {
     "name": "stderr",
     "output_type": "stream",
     "text": [
      "13it [00:02,  5.12it/s]\n",
      "4it [00:00,  8.93it/s]\n"
     ]
    },
    {
     "name": "stdout",
     "output_type": "stream",
     "text": [
      "Epoch number [101/300] Train Loss: 0.0002, Train Accuracy: 97.1888%, Valid Loss: 0.0002, Valid Accuracy: 98.1144%\n",
      "EarlyStopping counter: 3 out of 30\n"
     ]
    },
    {
     "name": "stderr",
     "output_type": "stream",
     "text": [
      "13it [00:02,  5.05it/s]\n",
      "4it [00:00,  8.99it/s]\n"
     ]
    },
    {
     "name": "stdout",
     "output_type": "stream",
     "text": [
      "Epoch number [102/300] Train Loss: 0.0002, Train Accuracy: 97.5463%, Valid Loss: 0.0001, Valid Accuracy: 97.5943%\n",
      "Validation loss decreased (0.000151 --> 0.000150).  Saving model ...\n"
     ]
    },
    {
     "name": "stderr",
     "output_type": "stream",
     "text": [
      "13it [00:02,  5.11it/s]\n",
      "4it [00:00,  8.95it/s]\n"
     ]
    },
    {
     "name": "stdout",
     "output_type": "stream",
     "text": [
      "Epoch number [103/300] Train Loss: 0.0002, Train Accuracy: 97.2538%, Valid Loss: 0.0002, Valid Accuracy: 97.5943%\n",
      "EarlyStopping counter: 1 out of 30\n"
     ]
    },
    {
     "name": "stderr",
     "output_type": "stream",
     "text": [
      "13it [00:02,  5.06it/s]\n",
      "4it [00:00,  8.68it/s]\n"
     ]
    },
    {
     "name": "stdout",
     "output_type": "stream",
     "text": [
      "Epoch number [104/300] Train Loss: 0.0002, Train Accuracy: 97.2701%, Valid Loss: 0.0002, Valid Accuracy: 97.4642%\n",
      "EarlyStopping counter: 2 out of 30\n"
     ]
    },
    {
     "name": "stderr",
     "output_type": "stream",
     "text": [
      "13it [00:02,  5.15it/s]\n",
      "4it [00:00,  8.91it/s]\n"
     ]
    },
    {
     "name": "stdout",
     "output_type": "stream",
     "text": [
      "Epoch number [105/300] Train Loss: 0.0002, Train Accuracy: 97.1563%, Valid Loss: 0.0001, Valid Accuracy: 97.6593%\n",
      "Validation loss decreased (0.000150 --> 0.000142).  Saving model ...\n"
     ]
    },
    {
     "name": "stderr",
     "output_type": "stream",
     "text": [
      "13it [00:02,  5.14it/s]\n",
      "4it [00:00,  8.74it/s]\n"
     ]
    },
    {
     "name": "stdout",
     "output_type": "stream",
     "text": [
      "Epoch number [106/300] Train Loss: 0.0002, Train Accuracy: 97.4976%, Valid Loss: 0.0002, Valid Accuracy: 96.8140%\n",
      "EarlyStopping counter: 1 out of 30\n"
     ]
    },
    {
     "name": "stderr",
     "output_type": "stream",
     "text": [
      "13it [00:02,  5.08it/s]\n",
      "4it [00:00,  8.89it/s]\n"
     ]
    },
    {
     "name": "stdout",
     "output_type": "stream",
     "text": [
      "Epoch number [107/300] Train Loss: 0.0002, Train Accuracy: 97.3026%, Valid Loss: 0.0002, Valid Accuracy: 97.0091%\n",
      "EarlyStopping counter: 2 out of 30\n"
     ]
    },
    {
     "name": "stderr",
     "output_type": "stream",
     "text": [
      "13it [00:02,  5.13it/s]\n",
      "4it [00:00,  8.99it/s]\n"
     ]
    },
    {
     "name": "stdout",
     "output_type": "stream",
     "text": [
      "Epoch number [108/300] Train Loss: 0.0002, Train Accuracy: 97.4651%, Valid Loss: 0.0002, Valid Accuracy: 97.5293%\n",
      "EarlyStopping counter: 3 out of 30\n"
     ]
    },
    {
     "name": "stderr",
     "output_type": "stream",
     "text": [
      "13it [00:02,  4.99it/s]\n",
      "4it [00:00,  8.15it/s]\n"
     ]
    },
    {
     "name": "stdout",
     "output_type": "stream",
     "text": [
      "Epoch number [109/300] Train Loss: 0.0002, Train Accuracy: 97.6438%, Valid Loss: 0.0001, Valid Accuracy: 97.9844%\n",
      "EarlyStopping counter: 4 out of 30\n"
     ]
    },
    {
     "name": "stderr",
     "output_type": "stream",
     "text": [
      "13it [00:02,  4.82it/s]\n",
      "4it [00:00,  9.01it/s]\n"
     ]
    },
    {
     "name": "stdout",
     "output_type": "stream",
     "text": [
      "Epoch number [110/300] Train Loss: 0.0002, Train Accuracy: 97.4163%, Valid Loss: 0.0002, Valid Accuracy: 97.8544%\n",
      "EarlyStopping counter: 5 out of 30\n"
     ]
    },
    {
     "name": "stderr",
     "output_type": "stream",
     "text": [
      "13it [00:02,  5.12it/s]\n",
      "4it [00:00,  8.87it/s]\n"
     ]
    },
    {
     "name": "stdout",
     "output_type": "stream",
     "text": [
      "Epoch number [111/300] Train Loss: 0.0002, Train Accuracy: 97.9038%, Valid Loss: 0.0002, Valid Accuracy: 97.5943%\n",
      "EarlyStopping counter: 6 out of 30\n"
     ]
    },
    {
     "name": "stderr",
     "output_type": "stream",
     "text": [
      "13it [00:02,  5.06it/s]\n",
      "4it [00:00,  8.87it/s]\n"
     ]
    },
    {
     "name": "stdout",
     "output_type": "stream",
     "text": [
      "Epoch number [112/300] Train Loss: 0.0001, Train Accuracy: 97.6926%, Valid Loss: 0.0001, Valid Accuracy: 97.6593%\n",
      "EarlyStopping counter: 7 out of 30\n"
     ]
    },
    {
     "name": "stderr",
     "output_type": "stream",
     "text": [
      "13it [00:02,  5.12it/s]\n",
      "4it [00:00,  8.68it/s]\n"
     ]
    },
    {
     "name": "stdout",
     "output_type": "stream",
     "text": [
      "Epoch number [113/300] Train Loss: 0.0001, Train Accuracy: 97.9038%, Valid Loss: 0.0001, Valid Accuracy: 97.7893%\n",
      "EarlyStopping counter: 8 out of 30\n"
     ]
    },
    {
     "name": "stderr",
     "output_type": "stream",
     "text": [
      "13it [00:02,  5.12it/s]\n",
      "4it [00:00,  8.79it/s]\n"
     ]
    },
    {
     "name": "stdout",
     "output_type": "stream",
     "text": [
      "Epoch number [114/300] Train Loss: 0.0001, Train Accuracy: 97.9038%, Valid Loss: 0.0003, Valid Accuracy: 97.7893%\n",
      "EarlyStopping counter: 9 out of 30\n"
     ]
    },
    {
     "name": "stderr",
     "output_type": "stream",
     "text": [
      "13it [00:02,  5.11it/s]\n",
      "4it [00:00,  8.91it/s]\n"
     ]
    },
    {
     "name": "stdout",
     "output_type": "stream",
     "text": [
      "Epoch number [115/300] Train Loss: 0.0001, Train Accuracy: 97.8551%, Valid Loss: 0.0002, Valid Accuracy: 98.0494%\n",
      "EarlyStopping counter: 10 out of 30\n"
     ]
    },
    {
     "name": "stderr",
     "output_type": "stream",
     "text": [
      "13it [00:02,  5.14it/s]\n",
      "4it [00:00,  9.01it/s]\n"
     ]
    },
    {
     "name": "stdout",
     "output_type": "stream",
     "text": [
      "Epoch number [116/300] Train Loss: 0.0001, Train Accuracy: 97.8388%, Valid Loss: 0.0001, Valid Accuracy: 97.7243%\n",
      "EarlyStopping counter: 11 out of 30\n"
     ]
    },
    {
     "name": "stderr",
     "output_type": "stream",
     "text": [
      "13it [00:02,  5.06it/s]\n",
      "4it [00:00,  8.95it/s]\n"
     ]
    },
    {
     "name": "stdout",
     "output_type": "stream",
     "text": [
      "Epoch number [117/300] Train Loss: 0.0002, Train Accuracy: 97.4326%, Valid Loss: 0.0016, Valid Accuracy: 97.9194%\n",
      "EarlyStopping counter: 12 out of 30\n"
     ]
    },
    {
     "name": "stderr",
     "output_type": "stream",
     "text": [
      "13it [00:02,  5.10it/s]\n",
      "4it [00:00,  8.87it/s]\n"
     ]
    },
    {
     "name": "stdout",
     "output_type": "stream",
     "text": [
      "Epoch number [118/300] Train Loss: 0.0002, Train Accuracy: 97.4813%, Valid Loss: 0.0002, Valid Accuracy: 97.5943%\n",
      "EarlyStopping counter: 13 out of 30\n"
     ]
    },
    {
     "name": "stderr",
     "output_type": "stream",
     "text": [
      "13it [00:02,  5.11it/s]\n",
      "4it [00:00,  8.91it/s]\n"
     ]
    },
    {
     "name": "stdout",
     "output_type": "stream",
     "text": [
      "Epoch number [119/300] Train Loss: 0.0002, Train Accuracy: 97.2701%, Valid Loss: 0.0002, Valid Accuracy: 97.5943%\n",
      "EarlyStopping counter: 14 out of 30\n"
     ]
    },
    {
     "name": "stderr",
     "output_type": "stream",
     "text": [
      "13it [00:02,  5.12it/s]\n",
      "4it [00:00,  8.91it/s]\n"
     ]
    },
    {
     "name": "stdout",
     "output_type": "stream",
     "text": [
      "Epoch number [120/300] Train Loss: 0.0002, Train Accuracy: 96.6688%, Valid Loss: 0.0002, Valid Accuracy: 97.2692%\n",
      "EarlyStopping counter: 15 out of 30\n"
     ]
    },
    {
     "name": "stderr",
     "output_type": "stream",
     "text": [
      "13it [00:02,  5.10it/s]\n",
      "4it [00:00,  8.83it/s]\n"
     ]
    },
    {
     "name": "stdout",
     "output_type": "stream",
     "text": [
      "Epoch number [121/300] Train Loss: 0.0002, Train Accuracy: 96.7501%, Valid Loss: 0.0002, Valid Accuracy: 97.3342%\n",
      "EarlyStopping counter: 16 out of 30\n"
     ]
    },
    {
     "name": "stderr",
     "output_type": "stream",
     "text": [
      "13it [00:02,  5.05it/s]\n",
      "4it [00:00,  8.52it/s]\n"
     ]
    },
    {
     "name": "stdout",
     "output_type": "stream",
     "text": [
      "Epoch number [122/300] Train Loss: 0.0002, Train Accuracy: 97.0588%, Valid Loss: 0.0002, Valid Accuracy: 97.5943%\n",
      "EarlyStopping counter: 17 out of 30\n"
     ]
    },
    {
     "name": "stderr",
     "output_type": "stream",
     "text": [
      "13it [00:02,  5.15it/s]\n",
      "4it [00:00,  8.89it/s]\n"
     ]
    },
    {
     "name": "stdout",
     "output_type": "stream",
     "text": [
      "Epoch number [123/300] Train Loss: 0.0002, Train Accuracy: 97.3676%, Valid Loss: 0.0002, Valid Accuracy: 97.5293%\n",
      "EarlyStopping counter: 18 out of 30\n"
     ]
    },
    {
     "name": "stderr",
     "output_type": "stream",
     "text": [
      "13it [00:02,  5.09it/s]\n",
      "4it [00:00,  8.83it/s]\n"
     ]
    },
    {
     "name": "stdout",
     "output_type": "stream",
     "text": [
      "Epoch number [124/300] Train Loss: 0.0002, Train Accuracy: 97.5626%, Valid Loss: 0.0002, Valid Accuracy: 97.4642%\n",
      "EarlyStopping counter: 19 out of 30\n"
     ]
    },
    {
     "name": "stderr",
     "output_type": "stream",
     "text": [
      "13it [00:02,  5.09it/s]\n",
      "4it [00:00,  8.81it/s]\n"
     ]
    },
    {
     "name": "stdout",
     "output_type": "stream",
     "text": [
      "Epoch number [125/300] Train Loss: 0.0002, Train Accuracy: 97.3026%, Valid Loss: 0.0002, Valid Accuracy: 97.5293%\n",
      "EarlyStopping counter: 20 out of 30\n"
     ]
    },
    {
     "name": "stderr",
     "output_type": "stream",
     "text": [
      "13it [00:02,  5.13it/s]\n",
      "4it [00:00,  8.76it/s]\n"
     ]
    },
    {
     "name": "stdout",
     "output_type": "stream",
     "text": [
      "Epoch number [126/300] Train Loss: 0.0002, Train Accuracy: 97.6438%, Valid Loss: 0.0001, Valid Accuracy: 97.4642%\n",
      "EarlyStopping counter: 21 out of 30\n"
     ]
    },
    {
     "name": "stderr",
     "output_type": "stream",
     "text": [
      "13it [00:02,  5.02it/s]\n",
      "4it [00:00,  8.83it/s]\n"
     ]
    },
    {
     "name": "stdout",
     "output_type": "stream",
     "text": [
      "Epoch number [127/300] Train Loss: 0.0002, Train Accuracy: 97.5951%, Valid Loss: 0.0001, Valid Accuracy: 97.7243%\n",
      "EarlyStopping counter: 22 out of 30\n"
     ]
    },
    {
     "name": "stderr",
     "output_type": "stream",
     "text": [
      "13it [00:02,  5.12it/s]\n",
      "4it [00:00,  8.93it/s]\n"
     ]
    },
    {
     "name": "stdout",
     "output_type": "stream",
     "text": [
      "Epoch number [128/300] Train Loss: 0.0002, Train Accuracy: 97.7251%, Valid Loss: 0.0002, Valid Accuracy: 97.0741%\n",
      "EarlyStopping counter: 23 out of 30\n"
     ]
    },
    {
     "name": "stderr",
     "output_type": "stream",
     "text": [
      "13it [00:02,  5.12it/s]\n",
      "4it [00:00,  9.05it/s]\n"
     ]
    },
    {
     "name": "stdout",
     "output_type": "stream",
     "text": [
      "Epoch number [129/300] Train Loss: 0.0002, Train Accuracy: 97.3351%, Valid Loss: 0.0001, Valid Accuracy: 97.9844%\n",
      "EarlyStopping counter: 24 out of 30\n"
     ]
    },
    {
     "name": "stderr",
     "output_type": "stream",
     "text": [
      "13it [00:02,  5.12it/s]\n",
      "4it [00:00,  8.85it/s]\n"
     ]
    },
    {
     "name": "stdout",
     "output_type": "stream",
     "text": [
      "Epoch number [130/300] Train Loss: 0.0001, Train Accuracy: 97.8388%, Valid Loss: 0.0003, Valid Accuracy: 97.7893%\n",
      "EarlyStopping counter: 25 out of 30\n"
     ]
    },
    {
     "name": "stderr",
     "output_type": "stream",
     "text": [
      "13it [00:02,  5.04it/s]\n",
      "4it [00:00,  8.99it/s]\n"
     ]
    },
    {
     "name": "stdout",
     "output_type": "stream",
     "text": [
      "Epoch number [131/300] Train Loss: 0.0001, Train Accuracy: 97.7251%, Valid Loss: 0.0001, Valid Accuracy: 97.8544%\n",
      "Validation loss decreased (0.000142 --> 0.000141).  Saving model ...\n"
     ]
    },
    {
     "name": "stderr",
     "output_type": "stream",
     "text": [
      "13it [00:02,  4.99it/s]\n",
      "4it [00:00,  8.93it/s]\n"
     ]
    },
    {
     "name": "stdout",
     "output_type": "stream",
     "text": [
      "Epoch number [132/300] Train Loss: 0.0002, Train Accuracy: 97.7738%, Valid Loss: 0.0001, Valid Accuracy: 97.9194%\n",
      "EarlyStopping counter: 1 out of 30\n"
     ]
    },
    {
     "name": "stderr",
     "output_type": "stream",
     "text": [
      "13it [00:02,  5.13it/s]\n",
      "4it [00:00,  9.03it/s]\n"
     ]
    },
    {
     "name": "stdout",
     "output_type": "stream",
     "text": [
      "Epoch number [133/300] Train Loss: 0.0002, Train Accuracy: 97.6438%, Valid Loss: 0.0001, Valid Accuracy: 97.7893%\n",
      "EarlyStopping counter: 2 out of 30\n"
     ]
    },
    {
     "name": "stderr",
     "output_type": "stream",
     "text": [
      "13it [00:02,  5.10it/s]\n",
      "4it [00:00,  8.86it/s]\n"
     ]
    },
    {
     "name": "stdout",
     "output_type": "stream",
     "text": [
      "Epoch number [134/300] Train Loss: 0.0002, Train Accuracy: 97.2701%, Valid Loss: 0.0002, Valid Accuracy: 98.1144%\n",
      "EarlyStopping counter: 3 out of 30\n"
     ]
    },
    {
     "name": "stderr",
     "output_type": "stream",
     "text": [
      "13it [00:02,  5.08it/s]\n",
      "4it [00:00,  8.55it/s]\n"
     ]
    },
    {
     "name": "stdout",
     "output_type": "stream",
     "text": [
      "Epoch number [135/300] Train Loss: 0.0001, Train Accuracy: 97.7088%, Valid Loss: 0.0001, Valid Accuracy: 97.7893%\n",
      "EarlyStopping counter: 4 out of 30\n"
     ]
    },
    {
     "name": "stderr",
     "output_type": "stream",
     "text": [
      "13it [00:02,  5.09it/s]\n",
      "4it [00:00,  8.89it/s]\n"
     ]
    },
    {
     "name": "stdout",
     "output_type": "stream",
     "text": [
      "Epoch number [136/300] Train Loss: 0.0001, Train Accuracy: 97.6601%, Valid Loss: 0.0001, Valid Accuracy: 97.9194%\n",
      "Validation loss decreased (0.000141 --> 0.000137).  Saving model ...\n"
     ]
    },
    {
     "name": "stderr",
     "output_type": "stream",
     "text": [
      "13it [00:02,  5.01it/s]\n",
      "4it [00:00,  8.97it/s]\n"
     ]
    },
    {
     "name": "stdout",
     "output_type": "stream",
     "text": [
      "Epoch number [137/300] Train Loss: 0.0002, Train Accuracy: 97.6601%, Valid Loss: 0.0002, Valid Accuracy: 97.4642%\n",
      "EarlyStopping counter: 1 out of 30\n"
     ]
    },
    {
     "name": "stderr",
     "output_type": "stream",
     "text": [
      "13it [00:02,  5.13it/s]\n",
      "4it [00:00,  8.83it/s]\n"
     ]
    },
    {
     "name": "stdout",
     "output_type": "stream",
     "text": [
      "Epoch number [138/300] Train Loss: 0.0004, Train Accuracy: 94.4426%, Valid Loss: 0.0003, Valid Accuracy: 94.6034%\n",
      "EarlyStopping counter: 2 out of 30\n"
     ]
    },
    {
     "name": "stderr",
     "output_type": "stream",
     "text": [
      "13it [00:02,  5.11it/s]\n",
      "4it [00:00,  8.91it/s]\n"
     ]
    },
    {
     "name": "stdout",
     "output_type": "stream",
     "text": [
      "Epoch number [139/300] Train Loss: 0.0003, Train Accuracy: 95.6126%, Valid Loss: 0.0002, Valid Accuracy: 97.1391%\n",
      "EarlyStopping counter: 3 out of 30\n"
     ]
    },
    {
     "name": "stderr",
     "output_type": "stream",
     "text": [
      "13it [00:02,  5.08it/s]\n",
      "4it [00:00,  9.01it/s]\n"
     ]
    },
    {
     "name": "stdout",
     "output_type": "stream",
     "text": [
      "Epoch number [140/300] Train Loss: 0.0002, Train Accuracy: 96.2626%, Valid Loss: 0.0002, Valid Accuracy: 97.3342%\n",
      "EarlyStopping counter: 4 out of 30\n"
     ]
    },
    {
     "name": "stderr",
     "output_type": "stream",
     "text": [
      "13it [00:02,  5.14it/s]\n",
      "4it [00:00,  8.78it/s]\n"
     ]
    },
    {
     "name": "stdout",
     "output_type": "stream",
     "text": [
      "Epoch number [141/300] Train Loss: 0.0002, Train Accuracy: 96.2301%, Valid Loss: 0.0002, Valid Accuracy: 97.0741%\n",
      "EarlyStopping counter: 5 out of 30\n"
     ]
    },
    {
     "name": "stderr",
     "output_type": "stream",
     "text": [
      "13it [00:02,  5.07it/s]\n",
      "4it [00:00,  8.68it/s]\n"
     ]
    },
    {
     "name": "stdout",
     "output_type": "stream",
     "text": [
      "Epoch number [142/300] Train Loss: 0.0002, Train Accuracy: 96.7013%, Valid Loss: 0.0002, Valid Accuracy: 97.2692%\n",
      "EarlyStopping counter: 6 out of 30\n"
     ]
    },
    {
     "name": "stderr",
     "output_type": "stream",
     "text": [
      "13it [00:02,  5.12it/s]\n",
      "4it [00:00,  8.80it/s]\n"
     ]
    },
    {
     "name": "stdout",
     "output_type": "stream",
     "text": [
      "Epoch number [143/300] Train Loss: 0.0002, Train Accuracy: 96.7826%, Valid Loss: 0.0003, Valid Accuracy: 97.3992%\n",
      "EarlyStopping counter: 7 out of 30\n"
     ]
    },
    {
     "name": "stderr",
     "output_type": "stream",
     "text": [
      "13it [00:02,  5.04it/s]\n",
      "4it [00:00,  8.50it/s]\n"
     ]
    },
    {
     "name": "stdout",
     "output_type": "stream",
     "text": [
      "Epoch number [144/300] Train Loss: 0.0002, Train Accuracy: 96.9451%, Valid Loss: 0.0001, Valid Accuracy: 97.5943%\n",
      "EarlyStopping counter: 8 out of 30\n"
     ]
    },
    {
     "name": "stderr",
     "output_type": "stream",
     "text": [
      "13it [00:02,  4.91it/s]\n",
      "4it [00:00,  8.17it/s]\n"
     ]
    },
    {
     "name": "stdout",
     "output_type": "stream",
     "text": [
      "Epoch number [145/300] Train Loss: 0.0002, Train Accuracy: 96.7176%, Valid Loss: 0.0003, Valid Accuracy: 97.4642%\n",
      "EarlyStopping counter: 9 out of 30\n"
     ]
    },
    {
     "name": "stderr",
     "output_type": "stream",
     "text": [
      "13it [00:02,  4.97it/s]\n",
      "4it [00:00,  8.72it/s]\n"
     ]
    },
    {
     "name": "stdout",
     "output_type": "stream",
     "text": [
      "Epoch number [146/300] Train Loss: 0.0002, Train Accuracy: 96.9126%, Valid Loss: 0.0002, Valid Accuracy: 97.4642%\n",
      "EarlyStopping counter: 10 out of 30\n"
     ]
    },
    {
     "name": "stderr",
     "output_type": "stream",
     "text": [
      "13it [00:02,  5.01it/s]\n",
      "4it [00:00,  8.41it/s]\n"
     ]
    },
    {
     "name": "stdout",
     "output_type": "stream",
     "text": [
      "Epoch number [147/300] Train Loss: 0.0002, Train Accuracy: 97.1563%, Valid Loss: 0.0002, Valid Accuracy: 97.5293%\n",
      "EarlyStopping counter: 11 out of 30\n"
     ]
    },
    {
     "name": "stderr",
     "output_type": "stream",
     "text": [
      "13it [00:02,  4.94it/s]\n",
      "4it [00:00,  8.85it/s]\n"
     ]
    },
    {
     "name": "stdout",
     "output_type": "stream",
     "text": [
      "Epoch number [148/300] Train Loss: 0.0002, Train Accuracy: 97.7413%, Valid Loss: 0.0002, Valid Accuracy: 97.7893%\n",
      "EarlyStopping counter: 12 out of 30\n"
     ]
    },
    {
     "name": "stderr",
     "output_type": "stream",
     "text": [
      "13it [00:02,  4.95it/s]\n",
      "4it [00:00,  8.44it/s]\n"
     ]
    },
    {
     "name": "stdout",
     "output_type": "stream",
     "text": [
      "Epoch number [149/300] Train Loss: 0.0002, Train Accuracy: 97.4326%, Valid Loss: 0.0002, Valid Accuracy: 97.3992%\n",
      "EarlyStopping counter: 13 out of 30\n"
     ]
    },
    {
     "name": "stderr",
     "output_type": "stream",
     "text": [
      "13it [00:02,  5.04it/s]\n",
      "4it [00:00,  8.87it/s]\n"
     ]
    },
    {
     "name": "stdout",
     "output_type": "stream",
     "text": [
      "Epoch number [150/300] Train Loss: 0.0002, Train Accuracy: 97.2863%, Valid Loss: 0.0002, Valid Accuracy: 97.0741%\n",
      "EarlyStopping counter: 14 out of 30\n"
     ]
    },
    {
     "name": "stderr",
     "output_type": "stream",
     "text": [
      "13it [00:02,  5.03it/s]\n",
      "4it [00:00,  8.76it/s]\n"
     ]
    },
    {
     "name": "stdout",
     "output_type": "stream",
     "text": [
      "Epoch number [151/300] Train Loss: 0.0002, Train Accuracy: 97.4813%, Valid Loss: 0.0002, Valid Accuracy: 97.7243%\n",
      "EarlyStopping counter: 15 out of 30\n"
     ]
    },
    {
     "name": "stderr",
     "output_type": "stream",
     "text": [
      "13it [00:02,  4.98it/s]\n",
      "4it [00:00,  8.59it/s]\n"
     ]
    },
    {
     "name": "stdout",
     "output_type": "stream",
     "text": [
      "Epoch number [152/300] Train Loss: 0.0001, Train Accuracy: 97.6601%, Valid Loss: 0.0002, Valid Accuracy: 97.5943%\n",
      "EarlyStopping counter: 16 out of 30\n"
     ]
    },
    {
     "name": "stderr",
     "output_type": "stream",
     "text": [
      "13it [00:02,  4.97it/s]\n",
      "4it [00:00,  8.74it/s]\n"
     ]
    },
    {
     "name": "stdout",
     "output_type": "stream",
     "text": [
      "Epoch number [153/300] Train Loss: 0.0001, Train Accuracy: 97.6926%, Valid Loss: 0.0001, Valid Accuracy: 97.8544%\n",
      "EarlyStopping counter: 17 out of 30\n"
     ]
    },
    {
     "name": "stderr",
     "output_type": "stream",
     "text": [
      "13it [00:02,  4.91it/s]\n",
      "4it [00:00,  7.15it/s]\n"
     ]
    },
    {
     "name": "stdout",
     "output_type": "stream",
     "text": [
      "Epoch number [154/300] Train Loss: 0.0002, Train Accuracy: 97.9363%, Valid Loss: 0.0001, Valid Accuracy: 97.5943%\n",
      "EarlyStopping counter: 18 out of 30\n"
     ]
    },
    {
     "name": "stderr",
     "output_type": "stream",
     "text": [
      "13it [00:02,  4.84it/s]\n",
      "4it [00:00,  8.23it/s]\n"
     ]
    },
    {
     "name": "stdout",
     "output_type": "stream",
     "text": [
      "Epoch number [155/300] Train Loss: 0.0001, Train Accuracy: 97.6763%, Valid Loss: 0.0001, Valid Accuracy: 97.7243%\n",
      "EarlyStopping counter: 19 out of 30\n"
     ]
    },
    {
     "name": "stderr",
     "output_type": "stream",
     "text": [
      "13it [00:02,  4.86it/s]\n",
      "4it [00:00,  8.72it/s]\n"
     ]
    },
    {
     "name": "stdout",
     "output_type": "stream",
     "text": [
      "Epoch number [156/300] Train Loss: 0.0001, Train Accuracy: 97.8226%, Valid Loss: 0.0016, Valid Accuracy: 97.3992%\n",
      "EarlyStopping counter: 20 out of 30\n"
     ]
    },
    {
     "name": "stderr",
     "output_type": "stream",
     "text": [
      "13it [00:02,  4.96it/s]\n",
      "4it [00:00,  8.63it/s]\n"
     ]
    },
    {
     "name": "stdout",
     "output_type": "stream",
     "text": [
      "Epoch number [157/300] Train Loss: 0.0001, Train Accuracy: 97.9201%, Valid Loss: 0.0003, Valid Accuracy: 97.6593%\n",
      "EarlyStopping counter: 21 out of 30\n"
     ]
    },
    {
     "name": "stderr",
     "output_type": "stream",
     "text": [
      "13it [00:02,  4.85it/s]\n",
      "4it [00:00,  8.61it/s]\n"
     ]
    },
    {
     "name": "stdout",
     "output_type": "stream",
     "text": [
      "Epoch number [158/300] Train Loss: 0.0001, Train Accuracy: 97.9363%, Valid Loss: 0.0001, Valid Accuracy: 97.6593%\n",
      "EarlyStopping counter: 22 out of 30\n"
     ]
    },
    {
     "name": "stderr",
     "output_type": "stream",
     "text": [
      "13it [00:02,  4.95it/s]\n",
      "4it [00:00,  8.44it/s]\n"
     ]
    },
    {
     "name": "stdout",
     "output_type": "stream",
     "text": [
      "Epoch number [159/300] Train Loss: 0.0001, Train Accuracy: 97.8063%, Valid Loss: 0.0002, Valid Accuracy: 97.9194%\n",
      "EarlyStopping counter: 23 out of 30\n"
     ]
    },
    {
     "name": "stderr",
     "output_type": "stream",
     "text": [
      "13it [00:02,  4.94it/s]\n",
      "4it [00:00,  7.77it/s]\n"
     ]
    },
    {
     "name": "stdout",
     "output_type": "stream",
     "text": [
      "Epoch number [160/300] Train Loss: 0.0001, Train Accuracy: 98.0175%, Valid Loss: 0.0001, Valid Accuracy: 98.1795%\n",
      "Validation loss decreased (0.000137 --> 0.000134).  Saving model ...\n"
     ]
    },
    {
     "name": "stderr",
     "output_type": "stream",
     "text": [
      "13it [00:02,  4.90it/s]\n",
      "4it [00:00,  8.81it/s]\n"
     ]
    },
    {
     "name": "stdout",
     "output_type": "stream",
     "text": [
      "Epoch number [161/300] Train Loss: 0.0002, Train Accuracy: 97.7413%, Valid Loss: 0.0002, Valid Accuracy: 97.7893%\n",
      "EarlyStopping counter: 1 out of 30\n"
     ]
    },
    {
     "name": "stderr",
     "output_type": "stream",
     "text": [
      "13it [00:02,  4.96it/s]\n",
      "4it [00:00,  8.64it/s]\n"
     ]
    },
    {
     "name": "stdout",
     "output_type": "stream",
     "text": [
      "Epoch number [162/300] Train Loss: 0.0002, Train Accuracy: 97.8388%, Valid Loss: 0.0002, Valid Accuracy: 98.1144%\n",
      "EarlyStopping counter: 2 out of 30\n"
     ]
    },
    {
     "name": "stderr",
     "output_type": "stream",
     "text": [
      "13it [00:02,  4.93it/s]\n",
      "4it [00:00,  8.60it/s]\n"
     ]
    },
    {
     "name": "stdout",
     "output_type": "stream",
     "text": [
      "Epoch number [163/300] Train Loss: 0.0002, Train Accuracy: 97.6276%, Valid Loss: 0.0002, Valid Accuracy: 97.7893%\n",
      "EarlyStopping counter: 3 out of 30\n"
     ]
    },
    {
     "name": "stderr",
     "output_type": "stream",
     "text": [
      "13it [00:02,  4.75it/s]\n",
      "4it [00:00,  7.97it/s]\n"
     ]
    },
    {
     "name": "stdout",
     "output_type": "stream",
     "text": [
      "Epoch number [164/300] Train Loss: 0.0001, Train Accuracy: 97.8388%, Valid Loss: 0.0002, Valid Accuracy: 97.5293%\n",
      "EarlyStopping counter: 4 out of 30\n"
     ]
    },
    {
     "name": "stderr",
     "output_type": "stream",
     "text": [
      "13it [00:02,  4.85it/s]\n",
      "4it [00:00,  8.33it/s]\n"
     ]
    },
    {
     "name": "stdout",
     "output_type": "stream",
     "text": [
      "Epoch number [165/300] Train Loss: 0.0002, Train Accuracy: 97.6601%, Valid Loss: 0.0001, Valid Accuracy: 97.7893%\n",
      "EarlyStopping counter: 5 out of 30\n"
     ]
    },
    {
     "name": "stderr",
     "output_type": "stream",
     "text": [
      "13it [00:02,  4.73it/s]\n",
      "4it [00:00,  8.34it/s]\n"
     ]
    },
    {
     "name": "stdout",
     "output_type": "stream",
     "text": [
      "Epoch number [166/300] Train Loss: 0.0002, Train Accuracy: 97.8388%, Valid Loss: 0.0001, Valid Accuracy: 97.9194%\n",
      "EarlyStopping counter: 6 out of 30\n"
     ]
    },
    {
     "name": "stderr",
     "output_type": "stream",
     "text": [
      "13it [00:02,  4.98it/s]\n",
      "4it [00:00,  8.48it/s]\n"
     ]
    },
    {
     "name": "stdout",
     "output_type": "stream",
     "text": [
      "Epoch number [167/300] Train Loss: 0.0001, Train Accuracy: 97.7576%, Valid Loss: 0.0001, Valid Accuracy: 97.5943%\n",
      "EarlyStopping counter: 7 out of 30\n"
     ]
    },
    {
     "name": "stderr",
     "output_type": "stream",
     "text": [
      "13it [00:02,  4.93it/s]\n",
      "4it [00:00,  8.55it/s]\n"
     ]
    },
    {
     "name": "stdout",
     "output_type": "stream",
     "text": [
      "Epoch number [168/300] Train Loss: 0.0002, Train Accuracy: 97.8551%, Valid Loss: 0.0002, Valid Accuracy: 96.8791%\n",
      "EarlyStopping counter: 8 out of 30\n"
     ]
    },
    {
     "name": "stderr",
     "output_type": "stream",
     "text": [
      "13it [00:02,  4.88it/s]\n",
      "4it [00:00,  8.29it/s]\n"
     ]
    },
    {
     "name": "stdout",
     "output_type": "stream",
     "text": [
      "Epoch number [169/300] Train Loss: 0.0007, Train Accuracy: 83.7017%, Valid Loss: 0.0006, Valid Accuracy: 86.9311%\n",
      "EarlyStopping counter: 9 out of 30\n"
     ]
    },
    {
     "name": "stderr",
     "output_type": "stream",
     "text": [
      "13it [00:02,  4.81it/s]\n",
      "4it [00:00,  8.70it/s]\n"
     ]
    },
    {
     "name": "stdout",
     "output_type": "stream",
     "text": [
      "Epoch number [170/300] Train Loss: 0.0006, Train Accuracy: 88.7228%, Valid Loss: 0.0005, Valid Accuracy: 92.5878%\n",
      "EarlyStopping counter: 10 out of 30\n"
     ]
    },
    {
     "name": "stderr",
     "output_type": "stream",
     "text": [
      "13it [00:02,  4.94it/s]\n",
      "4it [00:00,  8.32it/s]\n"
     ]
    },
    {
     "name": "stdout",
     "output_type": "stream",
     "text": [
      "Epoch number [171/300] Train Loss: 0.0004, Train Accuracy: 92.4764%, Valid Loss: 0.0003, Valid Accuracy: 94.2133%\n",
      "EarlyStopping counter: 11 out of 30\n"
     ]
    },
    {
     "name": "stderr",
     "output_type": "stream",
     "text": [
      "13it [00:02,  4.82it/s]\n",
      "4it [00:00,  8.29it/s]\n"
     ]
    },
    {
     "name": "stdout",
     "output_type": "stream",
     "text": [
      "Epoch number [172/300] Train Loss: 0.0003, Train Accuracy: 94.1176%, Valid Loss: 0.0002, Valid Accuracy: 95.7737%\n",
      "EarlyStopping counter: 12 out of 30\n"
     ]
    },
    {
     "name": "stderr",
     "output_type": "stream",
     "text": [
      "13it [00:02,  4.85it/s]\n",
      "4it [00:00,  8.32it/s]\n"
     ]
    },
    {
     "name": "stdout",
     "output_type": "stream",
     "text": [
      "Epoch number [173/300] Train Loss: 0.0003, Train Accuracy: 95.0114%, Valid Loss: 0.0002, Valid Accuracy: 96.4889%\n",
      "EarlyStopping counter: 13 out of 30\n"
     ]
    },
    {
     "name": "stderr",
     "output_type": "stream",
     "text": [
      "13it [00:02,  5.00it/s]\n",
      "4it [00:00,  8.50it/s]\n"
     ]
    },
    {
     "name": "stdout",
     "output_type": "stream",
     "text": [
      "Epoch number [174/300] Train Loss: 0.0003, Train Accuracy: 95.4014%, Valid Loss: 0.0002, Valid Accuracy: 96.7490%\n",
      "EarlyStopping counter: 14 out of 30\n"
     ]
    },
    {
     "name": "stderr",
     "output_type": "stream",
     "text": [
      "13it [00:02,  4.85it/s]\n",
      "4it [00:00,  8.07it/s]\n"
     ]
    },
    {
     "name": "stdout",
     "output_type": "stream",
     "text": [
      "Epoch number [175/300] Train Loss: 0.0003, Train Accuracy: 95.3364%, Valid Loss: 0.0005, Valid Accuracy: 96.6190%\n",
      "EarlyStopping counter: 15 out of 30\n"
     ]
    },
    {
     "name": "stderr",
     "output_type": "stream",
     "text": [
      "13it [00:02,  4.66it/s]\n",
      "4it [00:00,  8.24it/s]\n"
     ]
    },
    {
     "name": "stdout",
     "output_type": "stream",
     "text": [
      "Epoch number [176/300] Train Loss: 0.0002, Train Accuracy: 96.1001%, Valid Loss: 0.0002, Valid Accuracy: 96.3589%\n",
      "EarlyStopping counter: 16 out of 30\n"
     ]
    },
    {
     "name": "stderr",
     "output_type": "stream",
     "text": [
      "13it [00:02,  4.47it/s]\n",
      "4it [00:00,  8.78it/s]\n"
     ]
    },
    {
     "name": "stdout",
     "output_type": "stream",
     "text": [
      "Epoch number [177/300] Train Loss: 0.0002, Train Accuracy: 95.7914%, Valid Loss: 0.0002, Valid Accuracy: 96.6840%\n",
      "EarlyStopping counter: 17 out of 30\n"
     ]
    },
    {
     "name": "stderr",
     "output_type": "stream",
     "text": [
      "13it [00:02,  4.55it/s]\n",
      "4it [00:00,  7.50it/s]\n"
     ]
    },
    {
     "name": "stdout",
     "output_type": "stream",
     "text": [
      "Epoch number [178/300] Train Loss: 0.0002, Train Accuracy: 96.7988%, Valid Loss: 0.0002, Valid Accuracy: 97.2042%\n",
      "EarlyStopping counter: 18 out of 30\n"
     ]
    },
    {
     "name": "stderr",
     "output_type": "stream",
     "text": [
      "13it [00:02,  4.89it/s]\n",
      "4it [00:00,  8.24it/s]\n"
     ]
    },
    {
     "name": "stdout",
     "output_type": "stream",
     "text": [
      "Epoch number [179/300] Train Loss: 0.0002, Train Accuracy: 96.6201%, Valid Loss: 0.0002, Valid Accuracy: 96.6840%\n",
      "EarlyStopping counter: 19 out of 30\n"
     ]
    },
    {
     "name": "stderr",
     "output_type": "stream",
     "text": [
      "13it [00:02,  4.70it/s]\n",
      "4it [00:00,  8.70it/s]\n"
     ]
    },
    {
     "name": "stdout",
     "output_type": "stream",
     "text": [
      "Epoch number [180/300] Train Loss: 0.0003, Train Accuracy: 96.5063%, Valid Loss: 0.0002, Valid Accuracy: 97.5293%\n",
      "EarlyStopping counter: 20 out of 30\n"
     ]
    },
    {
     "name": "stderr",
     "output_type": "stream",
     "text": [
      "13it [00:02,  4.99it/s]\n",
      "4it [00:00,  8.57it/s]\n"
     ]
    },
    {
     "name": "stdout",
     "output_type": "stream",
     "text": [
      "Epoch number [181/300] Train Loss: 0.0003, Train Accuracy: 96.3763%, Valid Loss: 0.0008, Valid Accuracy: 97.2692%\n",
      "EarlyStopping counter: 21 out of 30\n"
     ]
    },
    {
     "name": "stderr",
     "output_type": "stream",
     "text": [
      "13it [00:02,  5.00it/s]\n",
      "4it [00:00,  8.99it/s]\n"
     ]
    },
    {
     "name": "stdout",
     "output_type": "stream",
     "text": [
      "Epoch number [182/300] Train Loss: 0.0002, Train Accuracy: 96.1488%, Valid Loss: 0.0002, Valid Accuracy: 97.0741%\n",
      "EarlyStopping counter: 22 out of 30\n"
     ]
    },
    {
     "name": "stderr",
     "output_type": "stream",
     "text": [
      "13it [00:02,  4.93it/s]\n",
      "4it [00:00,  8.51it/s]\n"
     ]
    },
    {
     "name": "stdout",
     "output_type": "stream",
     "text": [
      "Epoch number [183/300] Train Loss: 0.0002, Train Accuracy: 96.7013%, Valid Loss: 0.0002, Valid Accuracy: 97.2042%\n",
      "EarlyStopping counter: 23 out of 30\n"
     ]
    },
    {
     "name": "stderr",
     "output_type": "stream",
     "text": [
      "13it [00:02,  4.89it/s]\n",
      "4it [00:00,  8.27it/s]\n"
     ]
    },
    {
     "name": "stdout",
     "output_type": "stream",
     "text": [
      "Epoch number [184/300] Train Loss: 0.0002, Train Accuracy: 96.5876%, Valid Loss: 0.0002, Valid Accuracy: 97.0091%\n",
      "EarlyStopping counter: 24 out of 30\n"
     ]
    },
    {
     "name": "stderr",
     "output_type": "stream",
     "text": [
      "13it [00:02,  4.60it/s]\n",
      "4it [00:00,  7.20it/s]\n"
     ]
    },
    {
     "name": "stdout",
     "output_type": "stream",
     "text": [
      "Epoch number [185/300] Train Loss: 0.0002, Train Accuracy: 96.7176%, Valid Loss: 0.0002, Valid Accuracy: 97.1391%\n",
      "EarlyStopping counter: 25 out of 30\n"
     ]
    },
    {
     "name": "stderr",
     "output_type": "stream",
     "text": [
      "13it [00:02,  4.63it/s]\n",
      "4it [00:00,  8.79it/s]\n"
     ]
    },
    {
     "name": "stdout",
     "output_type": "stream",
     "text": [
      "Epoch number [186/300] Train Loss: 0.0002, Train Accuracy: 96.8638%, Valid Loss: 0.0002, Valid Accuracy: 97.0091%\n",
      "EarlyStopping counter: 26 out of 30\n"
     ]
    },
    {
     "name": "stderr",
     "output_type": "stream",
     "text": [
      "13it [00:02,  4.76it/s]\n",
      "4it [00:00,  8.64it/s]\n"
     ]
    },
    {
     "name": "stdout",
     "output_type": "stream",
     "text": [
      "Epoch number [187/300] Train Loss: 0.0002, Train Accuracy: 96.8801%, Valid Loss: 0.0002, Valid Accuracy: 97.3342%\n",
      "EarlyStopping counter: 27 out of 30\n"
     ]
    },
    {
     "name": "stderr",
     "output_type": "stream",
     "text": [
      "13it [00:02,  4.86it/s]\n",
      "4it [00:00,  8.95it/s]\n"
     ]
    },
    {
     "name": "stdout",
     "output_type": "stream",
     "text": [
      "Epoch number [188/300] Train Loss: 0.0002, Train Accuracy: 96.7501%, Valid Loss: 0.0002, Valid Accuracy: 97.5293%\n",
      "EarlyStopping counter: 28 out of 30\n"
     ]
    },
    {
     "name": "stderr",
     "output_type": "stream",
     "text": [
      "13it [00:02,  4.79it/s]\n",
      "4it [00:00,  8.93it/s]\n"
     ]
    },
    {
     "name": "stdout",
     "output_type": "stream",
     "text": [
      "Epoch number [189/300] Train Loss: 0.0002, Train Accuracy: 96.8963%, Valid Loss: 0.0004, Valid Accuracy: 96.9441%\n",
      "EarlyStopping counter: 29 out of 30\n"
     ]
    },
    {
     "name": "stderr",
     "output_type": "stream",
     "text": [
      "13it [00:02,  5.00it/s]\n",
      "4it [00:00,  8.57it/s]"
     ]
    },
    {
     "name": "stdout",
     "output_type": "stream",
     "text": [
      "Epoch number [190/300] Train Loss: 0.0002, Train Accuracy: 96.8638%, Valid Loss: 0.0002, Valid Accuracy: 97.5293%\n",
      "EarlyStopping counter: 30 out of 30\n"
     ]
    },
    {
     "name": "stderr",
     "output_type": "stream",
     "text": [
      "\n"
     ]
    }
   ],
   "source": [
    "# train the model\n",
    "for epoch in range(1,EPOCHS + 1):\n",
    "    train_loss, train_correct, train_total = train_epoch(model, train_dataloader, loss_fn, optimizer)\n",
    "    valid_loss, valid_correct, valid_total = valid_epoch(model, valid_dataloader, loss_fn)\n",
    "    \n",
    "    train_accuracy = 100*train_correct/train_total\n",
    "    valid_accuracy = 100*valid_correct/valid_total\n",
    "\n",
    "    print('Epoch number [{}/{}] Train Loss: {:.4f}, Train Accuracy: {:.4f}%, Valid Loss: {:.4f}, Valid Accuracy: {:.4f}%'.format(\n",
    "        epoch, EPOCHS, train_loss, train_accuracy, valid_loss, valid_accuracy))\n",
    "    iteration_number += 1\n",
    "    \n",
    "    counter.append(iteration_number)\n",
    "    train_loss_history.append(train_loss)\n",
    "    valid_loss_history.append(valid_loss)\n",
    "    train_accuracy_history.append(train_accuracy)\n",
    "    valid_accuracy_history.append(valid_accuracy)\n",
    "    \n",
    "    early_stopping(valid_loss, model)\n",
    "    \n",
    "    if early_stopping.early_stop:\n",
    "        break"
   ]
  },
  {
   "attachments": {},
   "cell_type": "markdown",
   "metadata": {},
   "source": [
    "### **Analyze & Save**"
   ]
  },
  {
   "cell_type": "code",
   "execution_count": 21,
   "metadata": {},
   "outputs": [],
   "source": [
    "# define values that are used in figure saving. \n",
    "result_number = 105 # id number for the experiment\n",
    "last_epoch_number = 160 # total number of epochs"
   ]
  },
  {
   "cell_type": "code",
   "execution_count": 22,
   "metadata": {},
   "outputs": [
    {
     "data": {
      "image/png": "[encoded data removed]",
      "text/plain": [
       "<Figure size 500x300 with 1 Axes>"
      ]
     },
     "metadata": {},
     "output_type": "display_data"
    }
   ],
   "source": [
    "# draw accuracy curve\n",
    "import matplotlib.pyplot as plt\n",
    "\n",
    "plt.figure(figsize=(5, 3))\n",
    "plt.plot(counter[:last_epoch_number], train_accuracy_history[:last_epoch_number], marker='', c='blue', label=\"train\")\n",
    "plt.plot(counter[:last_epoch_number], valid_accuracy_history[:last_epoch_number], marker='', c='red', label=\"validation\")\n",
    "\n",
    "plt.legend(loc='lower right')\n",
    "plt.grid()\n",
    "plt.xlabel('epoch')\n",
    "plt.ylabel('accuracy')\n",
    "plt.title('accuracy curve')\n",
    "plt.savefig('result{}_accuracy_curve.png'.format(result_number), bbox_inches='tight')\n",
    "plt.show()"
   ]
  },
  {
   "cell_type": "code",
   "execution_count": 23,
   "metadata": {},
   "outputs": [
    {
     "data": {
      "image/png": "[encoded data removed]",
      "text/plain": [
       "<Figure size 500x300 with 1 Axes>"
      ]
     },
     "metadata": {},
     "output_type": "display_data"
    }
   ],
   "source": [
    "# draw loss curve\n",
    "import matplotlib.pyplot as plt\n",
    "\n",
    "plt.figure(figsize=(5, 3))\n",
    "plt.plot(counter[:last_epoch_number], train_loss_history[:last_epoch_number], marker='', c='blue', label=\"train\")\n",
    "plt.plot(counter[:last_epoch_number], valid_loss_history[:last_epoch_number], marker='', c='red', label=\"validation\")\n",
    "\n",
    "plt.legend(loc='upper right')\n",
    "plt.grid()\n",
    "plt.xlabel('epoch')\n",
    "plt.ylabel('loss')\n",
    "plt.title('loss curve')\n",
    "plt.savefig('result{}_loss_curve.png'.format(result_number), bbox_inches='tight')\n",
    "plt.show()"
   ]
  },
  {
   "cell_type": "code",
   "execution_count": 24,
   "metadata": {},
   "outputs": [],
   "source": [
    "# 모델 저장 및 불러오기\n",
    "torch.save(model, './result{}.pth'.format(result_number))\n",
    "# model = torch.load('./result{}.pth'.format(result_number)).to(device)"
   ]
  },
  {
   "attachments": {},
   "cell_type": "markdown",
   "metadata": {},
   "source": [
    "### **Test**"
   ]
  },
  {
   "cell_type": "code",
   "execution_count": 25,
   "metadata": {},
   "outputs": [],
   "source": [
    "class TestDataset(Dataset):\n",
    "    def __init__(self, Config):\n",
    "        self.dir = Config.test_data_dir\n",
    "        self.data_list = os.listdir(self.dir)\n",
    "        self.label_df = pd.read_csv(Config.test_df_dir)\n",
    "    \n",
    "    def __len__(self):\n",
    "        return len(self.data_list)\n",
    "    \n",
    "    def __getitem__(self, idx):\n",
    "        label_list = list()\n",
    "        file_name = self.data_list[idx]\n",
    "        file_dir = self.dir + file_name\n",
    "        mfccs, features = extract_features(file_dir)\n",
    "        \n",
    "        mfccs = torch.tensor(mfccs).to(torch.float32).unsqueeze(0)\n",
    "        features = torch.tensor(features).to(torch.float32).unsqueeze(0)\n",
    "        \n",
    "        if self.label_df[self.label_df['file']==file_name]['label'].item() == 'nonscream':\n",
    "            label_list.append(0)\n",
    "        else: label_list.append(1)\n",
    "        \n",
    "        label = torch.tensor(label_list)\n",
    "        \n",
    "        return mfccs, features, label, file_name"
   ]
  },
  {
   "cell_type": "code",
   "execution_count": 26,
   "metadata": {},
   "outputs": [],
   "source": [
    "# define test dataset and dataloader\n",
    "test_dataset = TestDataset(Config())\n",
    "test_dataloader = DataLoader(test_dataset, batch_size=164, shuffle=False)"
   ]
  },
  {
   "cell_type": "code",
   "execution_count": 27,
   "metadata": {},
   "outputs": [
    {
     "name": "stdout",
     "output_type": "stream",
     "text": [
      "correct / total : 160 / 164\n",
      "accuracy : 97.5610%\n",
      "['00073.wav', '00092.wav', '00111.wav', '00112.wav']\n"
     ]
    }
   ],
   "source": [
    "# evaluate the model with test dataset\n",
    "# extract features from test files directly, which differs from training session. \n",
    "model.eval()\n",
    "correct = 0\n",
    "total = 0\n",
    "wrong_files_list = list()\n",
    "preds_list = list()\n",
    "label_list = list()\n",
    "\n",
    "with torch.inference_mode():\n",
    "    for i, (mfccs, features, label, file_name) in enumerate(test_dataloader):\n",
    "        mfccs = mfccs.to(device)\n",
    "        features = features.to(device)\n",
    "        label = label.to(device)\n",
    "        \n",
    "        outputs = model(mfccs, features)\n",
    "        preds = outputs.round()\n",
    "        loss = loss_fn(outputs.to(torch.float32), label.to(torch.float32))\n",
    "        \n",
    "        total += label.size(0)\n",
    "        correct += (preds == label).sum().item()\n",
    "        \n",
    "        # make wrong prediction file names list using np.array mask.\n",
    "        wrong_mask = preds != label\n",
    "        wrong_mask = np.array(wrong_mask.squeeze(-1).cpu())\n",
    "        file_name = np.array(file_name)\n",
    "        wrong_files = file_name[wrong_mask].tolist()\n",
    "        \n",
    "        preds_list += preds.squeeze(-1).to(torch.int8).tolist()\n",
    "        label_list += label.squeeze(-1).to(torch.int8).tolist()\n",
    "        wrong_files_list += wrong_files\n",
    "        \n",
    "        clean()\n",
    "\n",
    "print('correct / total : {} / {}'.format(correct, total))\n",
    "print('accuracy : {:.4f}%'.format(100*correct/total))\n",
    "print(wrong_files_list)"
   ]
  },
  {
   "cell_type": "code",
   "execution_count": 28,
   "metadata": {},
   "outputs": [
    {
     "data": {
      "image/png": "[encoded data removed]",
      "text/plain": [
       "<Figure size 500x300 with 2 Axes>"
      ]
     },
     "metadata": {},
     "output_type": "display_data"
    }
   ],
   "source": [
    "# plot confusion matrix\n",
    "import seaborn as sns\n",
    "from sklearn import metrics\n",
    "cm = metrics.confusion_matrix(preds_list, label_list)\n",
    "df_cm = pd.DataFrame(data=cm, columns=['nonscream', 'scream'],\n",
    "                     index=['nonscream', 'scream'])\n",
    "plt.figure(figsize=(5, 3))\n",
    "sns.heatmap(df_cm, annot=True, fmt='d', cmap='Blues'\n",
    "            ).set(xlabel=\"True_label\", ylabel=\"Predicted_label\")\n",
    "plt.savefig('result{}_confusion_matrix.png'.format(result_number), bbox_inches='tight')"
   ]
  },
  {
   "cell_type": "code",
   "execution_count": null,
   "metadata": {},
   "outputs": [],
   "source": []
  }
 ],
 "metadata": {
  "kernelspec": {
   "display_name": "Scream",
   "language": "python",
   "name": "python3"
  },
  "language_info": {
   "codemirror_mode": {
    "name": "ipython",
    "version": 3
   },
   "file_extension": ".py",
   "mimetype": "text/x-python",
   "name": "python",
   "nbconvert_exporter": "python",
   "pygments_lexer": "ipython3",
   "version": "3.10.2"
  },
  "orig_nbformat": 4
 },
 "nbformat": 4,
 "nbformat_minor": 2
}
